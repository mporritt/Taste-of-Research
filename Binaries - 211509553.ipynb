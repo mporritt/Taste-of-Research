{
 "cells": [
  {
   "cell_type": "code",
   "execution_count": 1,
   "metadata": {},
   "outputs": [],
   "source": [
    "import matplotlib.pyplot as plt\n",
    "import warnings\n",
    "warnings.filterwarnings('ignore')\n",
    "\n",
    "import TTVModel\n",
    "import TTVLightCurve\n",
    "from dataInteraction import read_data, parameter_lookup, get_path"
   ]
  },
  {
   "cell_type": "code",
   "execution_count": 2,
   "metadata": {
    "scrolled": true
   },
   "outputs": [
    {
     "name": "stdout",
     "output_type": "stream",
     "text": [
      "Calculated parameters: t0 = 2318.4511716449088, Calculated period = 20.34608172791675\n",
      "Using calculated parameters\n",
      "Optimising the shape of the orbital model:\n"
     ]
    },
    {
     "name": "stderr",
     "output_type": "stream",
     "text": [
      "optimizing logp for variables: [b, r, u, t0, mean]\n"
     ]
    },
    {
     "data": {
      "application/vnd.jupyter.widget-view+json": {
       "model_id": "e7d7c3a9b6f2400882d44fbbf94c9dee",
       "version_major": 2,
       "version_minor": 0
      },
      "text/plain": [
       "HBox(children=(FloatProgress(value=1.0, bar_style='info', layout=Layout(width='20px'), max=1.0), HTML(value=''…"
      ]
     },
     "metadata": {},
     "output_type": "display_data"
    },
    {
     "name": "stdout",
     "output_type": "stream",
     "text": [
      "\n",
      "\t mean = 0.9999452572013088\n",
      "\t t0 = -0.017043506197798968\n",
      "\t u = [0.44576281 0.41801356]\n",
      "\t r = 0.19731852108068018\n",
      "\t b = 0.7867058283357122\n",
      "Fitting ttv for transit number 0\n"
     ]
    },
    {
     "name": "stderr",
     "output_type": "stream",
     "text": [
      "message: Desired error not necessarily achieved due to precision loss.\n",
      "logp: 8982.28698478897 -> 15279.713629895514\n"
     ]
    },
    {
     "name": "stdout",
     "output_type": "stream",
     "text": [
      "Fitting ttv for transit number 1\n",
      "Fitting ttv for transit number 2\n",
      "Fitting ttv for transit number 3\n",
      "Optimising the shape of the orbital model:\n"
     ]
    },
    {
     "name": "stderr",
     "output_type": "stream",
     "text": [
      "optimizing logp for variables: [b, r, u, t0, mean]\n"
     ]
    },
    {
     "data": {
      "application/vnd.jupyter.widget-view+json": {
       "model_id": "446e95f6828e4dec8be5518dc097614f",
       "version_major": 2,
       "version_minor": 0
      },
      "text/plain": [
       "HBox(children=(FloatProgress(value=1.0, bar_style='info', layout=Layout(width='20px'), max=1.0), HTML(value=''…"
      ]
     },
     "metadata": {},
     "output_type": "display_data"
    },
    {
     "name": "stdout",
     "output_type": "stream",
     "text": [
      "\n",
      "\t mean = 0.9999472256342962\n",
      "\t t0 = -2.036239167125759e-05\n",
      "\t u = [0.04507934 0.02226443]\n",
      "\t r = 0.2287517987278043\n",
      "\t b = 0.8977483195381026\n",
      "Fitting ttv for transit number 0\n"
     ]
    },
    {
     "name": "stderr",
     "output_type": "stream",
     "text": [
      "message: Desired error not necessarily achieved due to precision loss.\n",
      "logp: 9058.54665829065 -> 15842.248849889957\n"
     ]
    },
    {
     "name": "stdout",
     "output_type": "stream",
     "text": [
      "Fitting ttv for transit number 1\n",
      "Fitting ttv for transit number 2\n",
      "Fitting ttv for transit number 3\n",
      "Optimising the shape of the orbital model:\n"
     ]
    },
    {
     "name": "stderr",
     "output_type": "stream",
     "text": [
      "optimizing logp for variables: [b, r, u, t0, mean]\n"
     ]
    },
    {
     "data": {
      "application/vnd.jupyter.widget-view+json": {
       "model_id": "638ed5787f894a759f7b6c9ee4c9bf2a",
       "version_major": 2,
       "version_minor": 0
      },
      "text/plain": [
       "HBox(children=(FloatProgress(value=1.0, bar_style='info', layout=Layout(width='20px'), max=1.0), HTML(value=''…"
      ]
     },
     "metadata": {},
     "output_type": "display_data"
    },
    {
     "name": "stdout",
     "output_type": "stream",
     "text": [
      "\n",
      "\t mean = 0.9999489740880466\n",
      "\t t0 = 5.869856777634032e-06\n",
      "\t u = [0.06579044 0.87483311]\n",
      "\t r = 0.20516268471986274\n",
      "\t b = 0.8080280491854812\n"
     ]
    },
    {
     "name": "stderr",
     "output_type": "stream",
     "text": [
      "message: Optimization terminated successfully.\n",
      "logp: 9058.531347010674 -> 15833.999121530363\n",
      "Sequential sampling (2 chains in 1 job)\n",
      "NUTS: [b, r, u, t0, mean]\n",
      "Sampling chain 0, 0 divergences: 100%|██████████| 6000/6000 [00:38<00:00, 156.22it/s]\n",
      "Sampling chain 1, 5 divergences: 100%|██████████| 6000/6000 [00:25<00:00, 239.04it/s]\n",
      "There were 5 divergences after tuning. Increase `target_accept` or reparameterize.\n"
     ]
    },
    {
     "name": "stdout",
     "output_type": "stream",
     "text": [
      "\t mean = 0.9999469861397731 +/- 1.981982977893441e-05\n",
      "\t t0 = -3.317000168859864e-06 +/- 0.00039945650074833545\n",
      "\t u = [0.03340951 0.01168864] +/- [0.04699922 0.05128482]\n",
      "\t r = 0.23163396005419024 +/- 0.011318407221955876\n",
      "\t b = 0.902666327135339 +/- 0.018938382528664525\n",
      "Fitting ttv for transit number 0\n"
     ]
    },
    {
     "name": "stderr",
     "output_type": "stream",
     "text": [
      "Sequential sampling (2 chains in 1 job)\n",
      "NUTS: [ttv]\n",
      "Sampling chain 0, 0 divergences: 100%|██████████| 1000/1000 [00:01<00:00, 740.90it/s]\n",
      "Sampling chain 1, 0 divergences: 100%|██████████| 1000/1000 [00:01<00:00, 968.96it/s]\n"
     ]
    },
    {
     "name": "stdout",
     "output_type": "stream",
     "text": [
      "Fitting ttv for transit number 1\n"
     ]
    },
    {
     "name": "stderr",
     "output_type": "stream",
     "text": [
      "Sequential sampling (2 chains in 1 job)\n",
      "NUTS: [ttv]\n",
      "Sampling chain 0, 0 divergences: 100%|██████████| 1000/1000 [00:01<00:00, 703.46it/s]\n",
      "Sampling chain 1, 0 divergences: 100%|██████████| 1000/1000 [00:01<00:00, 972.07it/s]\n"
     ]
    },
    {
     "name": "stdout",
     "output_type": "stream",
     "text": [
      "Fitting ttv for transit number 2\n"
     ]
    },
    {
     "name": "stderr",
     "output_type": "stream",
     "text": [
      "Sequential sampling (2 chains in 1 job)\n",
      "NUTS: [ttv]\n",
      "Sampling chain 0, 0 divergences: 100%|██████████| 1000/1000 [00:01<00:00, 732.13it/s]\n",
      "Sampling chain 1, 0 divergences: 100%|██████████| 1000/1000 [00:01<00:00, 973.15it/s]\n"
     ]
    },
    {
     "name": "stdout",
     "output_type": "stream",
     "text": [
      "Fitting ttv for transit number 3\n"
     ]
    },
    {
     "name": "stderr",
     "output_type": "stream",
     "text": [
      "Sequential sampling (2 chains in 1 job)\n",
      "NUTS: [ttv]\n",
      "Sampling chain 0, 0 divergences: 100%|██████████| 1000/1000 [00:01<00:00, 719.90it/s]\n",
      "Sampling chain 1, 0 divergences: 100%|██████████| 1000/1000 [00:00<00:00, 1003.23it/s]\n"
     ]
    }
   ],
   "source": [
    "model = read_data(211509553, 5)\n",
    "model.optimise()"
   ]
  },
  {
   "cell_type": "code",
   "execution_count": 3,
   "metadata": {},
   "outputs": [
    {
     "data": {
      "text/plain": [
       "<Figure size 432x288 with 0 Axes>"
      ]
     },
     "metadata": {},
     "output_type": "display_data"
    },
    {
     "data": {
      "image/png": "[encoded data removed]",
      "text/plain": [
       "<Figure size 848.5x400 with 1 Axes>"
      ]
     },
     "metadata": {},
     "output_type": "display_data"
    },
    {
     "data": {
      "image/png": "[encoded data removed]",
      "text/plain": [
       "<Figure size 432x288 with 1 Axes>"
      ]
     },
     "metadata": {
      "needs_background": "light"
     },
     "output_type": "display_data"
    }
   ],
   "source": [
    "model.plot_folded(xlim=0.2)\n",
    "model.plot_ttvs()"
   ]
  },
  {
   "cell_type": "code",
   "execution_count": null,
   "metadata": {},
   "outputs": [],
   "source": []
  }
 ],
 "metadata": {
  "kernelspec": {
   "display_name": "Python 3",
   "language": "python",
   "name": "python3"
  },
  "language_info": {
   "codemirror_mode": {
    "name": "ipython",
    "version": 3
   },
   "file_extension": ".py",
   "mimetype": "text/x-python",
   "name": "python",
   "nbconvert_exporter": "python",
   "pygments_lexer": "ipython3",
   "version": "3.8.5"
  }
 },
 "nbformat": 4,
 "nbformat_minor": 4
}
