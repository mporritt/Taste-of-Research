{
 "cells": [
  {
   "cell_type": "code",
   "execution_count": 1,
   "metadata": {},
   "outputs": [],
   "source": [
    "import TTVModel, TTVLightCurve\n",
    "from dataInteraction import read_data \n",
    "\n",
    "import warnings\n",
    "warnings.filterwarnings('ignore')"
   ]
  },
  {
   "cell_type": "code",
   "execution_count": 2,
   "metadata": {},
   "outputs": [],
   "source": [
    "def run(start_epic=None):\n",
    "    with open(\"Data/EPIC_list.txt\", 'r') as f:\n",
    "        epics = [int(line[:-1]) for line in f.readlines()]\n",
    "\n",
    "        \n",
    "    if start_epic is not None: epics = epics[epics.index(start_epic):]\n",
    "\n",
    "\n",
    "    for EPIC in epics:\n",
    "        for campaign in [5, 16, 18]:\n",
    "            print(\"=\"*100)\n",
    "            print(f\"\\t\\t\\tRUNNING EPIC {EPIC} CAMPAIGN {campaign}\")\n",
    "            print(\"=\"*100)\n",
    "\n",
    "            model = read_data(EPIC, campaign)\n",
    "            if model is not None:\n",
    "                if model.p_ref > 0.7:\n",
    "                    model.optimise()\n",
    "            del model"
   ]
  },
  {
   "cell_type": "code",
   "execution_count": null,
   "metadata": {},
   "outputs": [],
   "source": [
    "run(start_epic=212119244)"
   ]
  }
 ],
 "metadata": {
  "kernelspec": {
   "display_name": "Python 3",
   "language": "python",
   "name": "python3"
  },
  "language_info": {
   "codemirror_mode": {
    "name": "ipython",
    "version": 3
   },
   "file_extension": ".py",
   "mimetype": "text/x-python",
   "name": "python",
   "nbconvert_exporter": "python",
   "pygments_lexer": "ipython3",
   "version": "3.8.5"
  }
 },
 "nbformat": 4,
 "nbformat_minor": 4
}
