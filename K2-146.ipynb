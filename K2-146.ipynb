{
 "cells": [
  {
   "cell_type": "code",
   "execution_count": 1,
   "metadata": {},
   "outputs": [],
   "source": [
    "import warnings\n",
    "warnings.filterwarnings('ignore')\n",
    "import matplotlib.pyplot as plt\n",
    "\n",
    "import numpy as np\n",
    "import TTVModel, TTVLightCurve\n",
    "from dataInteraction import read_data, parameter_lookup, get_path"
   ]
  },
  {
   "cell_type": "code",
   "execution_count": 2,
   "metadata": {
    "scrolled": false
   },
   "outputs": [
    {
     "name": "stdout",
     "output_type": "stream",
     "text": [
      "Found parameters: t0 = 2309.00628, p = 2.643528\n",
      "Reference parameters: t0 = 2308.9907322105964, period = 2.645378839767954\n",
      "Optimising the shape of the orbital model:\n"
     ]
    },
    {
     "ename": "MissingInputError",
     "evalue": "Input 0 of the graph (indices start from 0), used to compute sigmoid(r_interval__), was not provided and not given a value. Use the Theano flag exception_verbosity='high', for more information on this error.",
     "output_type": "error",
     "traceback": [
      "\u001b[1;31m---------------------------------------------------------------------------\u001b[0m",
      "\u001b[1;31mMissingInputError\u001b[0m                         Traceback (most recent call last)",
      "\u001b[1;32m<ipython-input-2-62a2cd881880>\u001b[0m in \u001b[0;36m<module>\u001b[1;34m\u001b[0m\n\u001b[0;32m      1\u001b[0m \u001b[0mmodel\u001b[0m \u001b[1;33m=\u001b[0m \u001b[0mread_data\u001b[0m\u001b[1;33m(\u001b[0m\u001b[1;36m211924657\u001b[0m\u001b[1;33m,\u001b[0m \u001b[1;36m5\u001b[0m\u001b[1;33m)\u001b[0m\u001b[1;33m\u001b[0m\u001b[1;33m\u001b[0m\u001b[0m\n\u001b[1;32m----> 2\u001b[1;33m \u001b[0mmodel\u001b[0m\u001b[1;33m.\u001b[0m\u001b[0moptimise\u001b[0m\u001b[1;33m(\u001b[0m\u001b[1;33m)\u001b[0m\u001b[1;33m\u001b[0m\u001b[1;33m\u001b[0m\u001b[0m\n\u001b[0m",
      "\u001b[1;32m~\\Taste of Research Project\\TTVModel.py\u001b[0m in \u001b[0;36moptimise\u001b[1;34m(self)\u001b[0m\n\u001b[0;32m     91\u001b[0m     \u001b[1;32mdef\u001b[0m \u001b[0moptimise\u001b[0m\u001b[1;33m(\u001b[0m\u001b[0mself\u001b[0m\u001b[1;33m)\u001b[0m\u001b[1;33m:\u001b[0m\u001b[1;33m\u001b[0m\u001b[1;33m\u001b[0m\u001b[0m\n\u001b[0;32m     92\u001b[0m         \u001b[1;31m### TODO: be certain of convergence - use logp values?\u001b[0m\u001b[1;33m\u001b[0m\u001b[1;33m\u001b[0m\u001b[1;33m\u001b[0m\u001b[0m\n\u001b[1;32m---> 93\u001b[1;33m         \u001b[0mself\u001b[0m\u001b[1;33m.\u001b[0m\u001b[0mfit_shape\u001b[0m\u001b[1;33m(\u001b[0m\u001b[1;33m)\u001b[0m\u001b[1;33m\u001b[0m\u001b[1;33m\u001b[0m\u001b[0m\n\u001b[0m\u001b[0;32m     94\u001b[0m         \u001b[0mself\u001b[0m\u001b[1;33m.\u001b[0m\u001b[0mfit_ttvs\u001b[0m\u001b[1;33m(\u001b[0m\u001b[1;33m)\u001b[0m\u001b[1;33m\u001b[0m\u001b[1;33m\u001b[0m\u001b[0m\n\u001b[0;32m     95\u001b[0m         \u001b[0mself\u001b[0m\u001b[1;33m.\u001b[0m\u001b[0mfit_shape\u001b[0m\u001b[1;33m(\u001b[0m\u001b[1;33m)\u001b[0m\u001b[1;33m\u001b[0m\u001b[1;33m\u001b[0m\u001b[0m\n",
      "\u001b[1;32m~\\Taste of Research Project\\TTVModel.py\u001b[0m in \u001b[0;36mfit_shape\u001b[1;34m(self, run_MCMC, r_start, b_start)\u001b[0m\n\u001b[0;32m    142\u001b[0m             \u001b[0ma\u001b[0m \u001b[1;33m=\u001b[0m \u001b[0mxo\u001b[0m\u001b[1;33m.\u001b[0m\u001b[0mLimbDarkLightCurve\u001b[0m\u001b[1;33m(\u001b[0m\u001b[0mu\u001b[0m\u001b[1;33m)\u001b[0m\u001b[1;33m\u001b[0m\u001b[1;33m\u001b[0m\u001b[0m\n\u001b[0;32m    143\u001b[0m             \u001b[0mb\u001b[0m \u001b[1;33m=\u001b[0m \u001b[0ma\u001b[0m\u001b[1;33m.\u001b[0m\u001b[0mget_light_curve\u001b[0m\u001b[1;33m(\u001b[0m\u001b[0morbit\u001b[0m\u001b[1;33m=\u001b[0m\u001b[0morbit\u001b[0m\u001b[1;33m,\u001b[0m \u001b[0mr\u001b[0m\u001b[1;33m=\u001b[0m\u001b[0mr\u001b[0m\u001b[1;33m,\u001b[0m \u001b[0mt\u001b[0m\u001b[1;33m=\u001b[0m\u001b[0mt\u001b[0m\u001b[1;33m)\u001b[0m\u001b[1;33m\u001b[0m\u001b[1;33m\u001b[0m\u001b[0m\n\u001b[1;32m--> 144\u001b[1;33m             \u001b[0mlight_curve\u001b[0m \u001b[1;33m=\u001b[0m \u001b[0mb\u001b[0m\u001b[1;33m.\u001b[0m\u001b[0meval\u001b[0m\u001b[1;33m(\u001b[0m\u001b[1;33m)\u001b[0m \u001b[1;33m+\u001b[0m \u001b[0mmean\u001b[0m\u001b[1;33m\u001b[0m\u001b[1;33m\u001b[0m\u001b[0m\n\u001b[0m\u001b[0;32m    145\u001b[0m \u001b[1;33m\u001b[0m\u001b[0m\n\u001b[0;32m    146\u001b[0m             \u001b[1;31m#light_curve = (\u001b[0m\u001b[1;33m\u001b[0m\u001b[1;33m\u001b[0m\u001b[1;33m\u001b[0m\u001b[0m\n",
      "\u001b[1;32m~\\anaconda3\\lib\\site-packages\\theano\\gof\\graph.py\u001b[0m in \u001b[0;36meval\u001b[1;34m(self, inputs_to_values)\u001b[0m\n\u001b[0;32m    520\u001b[0m         \u001b[0minputs\u001b[0m \u001b[1;33m=\u001b[0m \u001b[0mtuple\u001b[0m\u001b[1;33m(\u001b[0m\u001b[0msorted\u001b[0m\u001b[1;33m(\u001b[0m\u001b[0minputs_to_values\u001b[0m\u001b[1;33m.\u001b[0m\u001b[0mkeys\u001b[0m\u001b[1;33m(\u001b[0m\u001b[1;33m)\u001b[0m\u001b[1;33m,\u001b[0m \u001b[0mkey\u001b[0m\u001b[1;33m=\u001b[0m\u001b[0mid\u001b[0m\u001b[1;33m)\u001b[0m\u001b[1;33m)\u001b[0m\u001b[1;33m\u001b[0m\u001b[1;33m\u001b[0m\u001b[0m\n\u001b[0;32m    521\u001b[0m         \u001b[1;32mif\u001b[0m \u001b[0minputs\u001b[0m \u001b[1;32mnot\u001b[0m \u001b[1;32min\u001b[0m \u001b[0mself\u001b[0m\u001b[1;33m.\u001b[0m\u001b[0m_fn_cache\u001b[0m\u001b[1;33m:\u001b[0m\u001b[1;33m\u001b[0m\u001b[1;33m\u001b[0m\u001b[0m\n\u001b[1;32m--> 522\u001b[1;33m             \u001b[0mself\u001b[0m\u001b[1;33m.\u001b[0m\u001b[0m_fn_cache\u001b[0m\u001b[1;33m[\u001b[0m\u001b[0minputs\u001b[0m\u001b[1;33m]\u001b[0m \u001b[1;33m=\u001b[0m \u001b[0mtheano\u001b[0m\u001b[1;33m.\u001b[0m\u001b[0mfunction\u001b[0m\u001b[1;33m(\u001b[0m\u001b[0minputs\u001b[0m\u001b[1;33m,\u001b[0m \u001b[0mself\u001b[0m\u001b[1;33m)\u001b[0m\u001b[1;33m\u001b[0m\u001b[1;33m\u001b[0m\u001b[0m\n\u001b[0m\u001b[0;32m    523\u001b[0m         \u001b[0margs\u001b[0m \u001b[1;33m=\u001b[0m \u001b[1;33m[\u001b[0m\u001b[0minputs_to_values\u001b[0m\u001b[1;33m[\u001b[0m\u001b[0mparam\u001b[0m\u001b[1;33m]\u001b[0m \u001b[1;32mfor\u001b[0m \u001b[0mparam\u001b[0m \u001b[1;32min\u001b[0m \u001b[0minputs\u001b[0m\u001b[1;33m]\u001b[0m\u001b[1;33m\u001b[0m\u001b[1;33m\u001b[0m\u001b[0m\n\u001b[0;32m    524\u001b[0m \u001b[1;33m\u001b[0m\u001b[0m\n",
      "\u001b[1;32m~\\anaconda3\\lib\\site-packages\\theano\\compile\\function.py\u001b[0m in \u001b[0;36mfunction\u001b[1;34m(inputs, outputs, mode, updates, givens, no_default_updates, accept_inplace, name, rebuild_strict, allow_input_downcast, profile, on_unused_input)\u001b[0m\n\u001b[0;32m    304\u001b[0m         \u001b[1;31m# note: pfunc will also call orig_function -- orig_function is\u001b[0m\u001b[1;33m\u001b[0m\u001b[1;33m\u001b[0m\u001b[1;33m\u001b[0m\u001b[0m\n\u001b[0;32m    305\u001b[0m         \u001b[1;31m#      a choke point that all compilation must pass through\u001b[0m\u001b[1;33m\u001b[0m\u001b[1;33m\u001b[0m\u001b[1;33m\u001b[0m\u001b[0m\n\u001b[1;32m--> 306\u001b[1;33m         fn = pfunc(params=inputs,\n\u001b[0m\u001b[0;32m    307\u001b[0m                    \u001b[0moutputs\u001b[0m\u001b[1;33m=\u001b[0m\u001b[0moutputs\u001b[0m\u001b[1;33m,\u001b[0m\u001b[1;33m\u001b[0m\u001b[1;33m\u001b[0m\u001b[0m\n\u001b[0;32m    308\u001b[0m                    \u001b[0mmode\u001b[0m\u001b[1;33m=\u001b[0m\u001b[0mmode\u001b[0m\u001b[1;33m,\u001b[0m\u001b[1;33m\u001b[0m\u001b[1;33m\u001b[0m\u001b[0m\n",
      "\u001b[1;32m~\\anaconda3\\lib\\site-packages\\theano\\compile\\pfunc.py\u001b[0m in \u001b[0;36mpfunc\u001b[1;34m(params, outputs, mode, updates, givens, no_default_updates, accept_inplace, name, rebuild_strict, allow_input_downcast, profile, on_unused_input, output_keys)\u001b[0m\n\u001b[0;32m    481\u001b[0m         \u001b[0minputs\u001b[0m\u001b[1;33m.\u001b[0m\u001b[0mappend\u001b[0m\u001b[1;33m(\u001b[0m\u001b[0msi\u001b[0m\u001b[1;33m)\u001b[0m\u001b[1;33m\u001b[0m\u001b[1;33m\u001b[0m\u001b[0m\n\u001b[0;32m    482\u001b[0m \u001b[1;33m\u001b[0m\u001b[0m\n\u001b[1;32m--> 483\u001b[1;33m     return orig_function(inputs, cloned_outputs, mode,\n\u001b[0m\u001b[0;32m    484\u001b[0m                          \u001b[0maccept_inplace\u001b[0m\u001b[1;33m=\u001b[0m\u001b[0maccept_inplace\u001b[0m\u001b[1;33m,\u001b[0m \u001b[0mname\u001b[0m\u001b[1;33m=\u001b[0m\u001b[0mname\u001b[0m\u001b[1;33m,\u001b[0m\u001b[1;33m\u001b[0m\u001b[1;33m\u001b[0m\u001b[0m\n\u001b[0;32m    485\u001b[0m                          \u001b[0mprofile\u001b[0m\u001b[1;33m=\u001b[0m\u001b[0mprofile\u001b[0m\u001b[1;33m,\u001b[0m \u001b[0mon_unused_input\u001b[0m\u001b[1;33m=\u001b[0m\u001b[0mon_unused_input\u001b[0m\u001b[1;33m,\u001b[0m\u001b[1;33m\u001b[0m\u001b[1;33m\u001b[0m\u001b[0m\n",
      "\u001b[1;32m~\\anaconda3\\lib\\site-packages\\theano\\compile\\function_module.py\u001b[0m in \u001b[0;36morig_function\u001b[1;34m(inputs, outputs, mode, accept_inplace, name, profile, on_unused_input, output_keys)\u001b[0m\n\u001b[0;32m   1830\u001b[0m     \u001b[1;32mtry\u001b[0m\u001b[1;33m:\u001b[0m\u001b[1;33m\u001b[0m\u001b[1;33m\u001b[0m\u001b[0m\n\u001b[0;32m   1831\u001b[0m         \u001b[0mMaker\u001b[0m \u001b[1;33m=\u001b[0m \u001b[0mgetattr\u001b[0m\u001b[1;33m(\u001b[0m\u001b[0mmode\u001b[0m\u001b[1;33m,\u001b[0m \u001b[1;34m'function_maker'\u001b[0m\u001b[1;33m,\u001b[0m \u001b[0mFunctionMaker\u001b[0m\u001b[1;33m)\u001b[0m\u001b[1;33m\u001b[0m\u001b[1;33m\u001b[0m\u001b[0m\n\u001b[1;32m-> 1832\u001b[1;33m         m = Maker(inputs,\n\u001b[0m\u001b[0;32m   1833\u001b[0m                   \u001b[0moutputs\u001b[0m\u001b[1;33m,\u001b[0m\u001b[1;33m\u001b[0m\u001b[1;33m\u001b[0m\u001b[0m\n\u001b[0;32m   1834\u001b[0m                   \u001b[0mmode\u001b[0m\u001b[1;33m,\u001b[0m\u001b[1;33m\u001b[0m\u001b[1;33m\u001b[0m\u001b[0m\n",
      "\u001b[1;32m~\\anaconda3\\lib\\site-packages\\theano\\compile\\function_module.py\u001b[0m in \u001b[0;36m__init__\u001b[1;34m(self, inputs, outputs, mode, accept_inplace, function_builder, profile, on_unused_input, fgraph, output_keys, name)\u001b[0m\n\u001b[0;32m   1484\u001b[0m             \u001b[1;31m# make the fgraph (copies the graph, creates NEW INPUT AND\u001b[0m\u001b[1;33m\u001b[0m\u001b[1;33m\u001b[0m\u001b[1;33m\u001b[0m\u001b[0m\n\u001b[0;32m   1485\u001b[0m             \u001b[1;31m# OUTPUT VARIABLES)\u001b[0m\u001b[1;33m\u001b[0m\u001b[1;33m\u001b[0m\u001b[1;33m\u001b[0m\u001b[0m\n\u001b[1;32m-> 1486\u001b[1;33m             fgraph, additional_outputs = std_fgraph(inputs, outputs,\n\u001b[0m\u001b[0;32m   1487\u001b[0m                                                     accept_inplace)\n\u001b[0;32m   1488\u001b[0m             \u001b[0mfgraph\u001b[0m\u001b[1;33m.\u001b[0m\u001b[0mprofile\u001b[0m \u001b[1;33m=\u001b[0m \u001b[0mprofile\u001b[0m\u001b[1;33m\u001b[0m\u001b[1;33m\u001b[0m\u001b[0m\n",
      "\u001b[1;32m~\\anaconda3\\lib\\site-packages\\theano\\compile\\function_module.py\u001b[0m in \u001b[0;36mstd_fgraph\u001b[1;34m(input_specs, output_specs, accept_inplace)\u001b[0m\n\u001b[0;32m    178\u001b[0m     \u001b[0morig_outputs\u001b[0m \u001b[1;33m=\u001b[0m \u001b[1;33m[\u001b[0m\u001b[0mspec\u001b[0m\u001b[1;33m.\u001b[0m\u001b[0mvariable\u001b[0m \u001b[1;32mfor\u001b[0m \u001b[0mspec\u001b[0m \u001b[1;32min\u001b[0m \u001b[0moutput_specs\u001b[0m\u001b[1;33m]\u001b[0m \u001b[1;33m+\u001b[0m \u001b[0mupdates\u001b[0m\u001b[1;33m\u001b[0m\u001b[1;33m\u001b[0m\u001b[0m\n\u001b[0;32m    179\u001b[0m \u001b[1;33m\u001b[0m\u001b[0m\n\u001b[1;32m--> 180\u001b[1;33m     fgraph = gof.fg.FunctionGraph(orig_inputs, orig_outputs,\n\u001b[0m\u001b[0;32m    181\u001b[0m                                   update_mapping=update_mapping)\n\u001b[0;32m    182\u001b[0m \u001b[1;33m\u001b[0m\u001b[0m\n",
      "\u001b[1;32m~\\anaconda3\\lib\\site-packages\\theano\\gof\\fg.py\u001b[0m in \u001b[0;36m__init__\u001b[1;34m(self, inputs, outputs, features, clone, update_mapping)\u001b[0m\n\u001b[0;32m    173\u001b[0m \u001b[1;33m\u001b[0m\u001b[0m\n\u001b[0;32m    174\u001b[0m         \u001b[1;32mfor\u001b[0m \u001b[0moutput\u001b[0m \u001b[1;32min\u001b[0m \u001b[0moutputs\u001b[0m\u001b[1;33m:\u001b[0m\u001b[1;33m\u001b[0m\u001b[1;33m\u001b[0m\u001b[0m\n\u001b[1;32m--> 175\u001b[1;33m             \u001b[0mself\u001b[0m\u001b[1;33m.\u001b[0m\u001b[0m__import_r__\u001b[0m\u001b[1;33m(\u001b[0m\u001b[0moutput\u001b[0m\u001b[1;33m,\u001b[0m \u001b[0mreason\u001b[0m\u001b[1;33m=\u001b[0m\u001b[1;34m\"init\"\u001b[0m\u001b[1;33m)\u001b[0m\u001b[1;33m\u001b[0m\u001b[1;33m\u001b[0m\u001b[0m\n\u001b[0m\u001b[0;32m    176\u001b[0m         \u001b[1;32mfor\u001b[0m \u001b[0mi\u001b[0m\u001b[1;33m,\u001b[0m \u001b[0moutput\u001b[0m \u001b[1;32min\u001b[0m \u001b[0menumerate\u001b[0m\u001b[1;33m(\u001b[0m\u001b[0moutputs\u001b[0m\u001b[1;33m)\u001b[0m\u001b[1;33m:\u001b[0m\u001b[1;33m\u001b[0m\u001b[1;33m\u001b[0m\u001b[0m\n\u001b[0;32m    177\u001b[0m             \u001b[0moutput\u001b[0m\u001b[1;33m.\u001b[0m\u001b[0mclients\u001b[0m\u001b[1;33m.\u001b[0m\u001b[0mappend\u001b[0m\u001b[1;33m(\u001b[0m\u001b[1;33m(\u001b[0m\u001b[1;34m'output'\u001b[0m\u001b[1;33m,\u001b[0m \u001b[0mi\u001b[0m\u001b[1;33m)\u001b[0m\u001b[1;33m)\u001b[0m\u001b[1;33m\u001b[0m\u001b[1;33m\u001b[0m\u001b[0m\n",
      "\u001b[1;32m~\\anaconda3\\lib\\site-packages\\theano\\gof\\fg.py\u001b[0m in \u001b[0;36m__import_r__\u001b[1;34m(self, variable, reason)\u001b[0m\n\u001b[0;32m    344\u001b[0m         \u001b[1;31m# Imports the owners of the variables\u001b[0m\u001b[1;33m\u001b[0m\u001b[1;33m\u001b[0m\u001b[1;33m\u001b[0m\u001b[0m\n\u001b[0;32m    345\u001b[0m         \u001b[1;32mif\u001b[0m \u001b[0mvariable\u001b[0m\u001b[1;33m.\u001b[0m\u001b[0mowner\u001b[0m \u001b[1;32mand\u001b[0m \u001b[0mvariable\u001b[0m\u001b[1;33m.\u001b[0m\u001b[0mowner\u001b[0m \u001b[1;32mnot\u001b[0m \u001b[1;32min\u001b[0m \u001b[0mself\u001b[0m\u001b[1;33m.\u001b[0m\u001b[0mapply_nodes\u001b[0m\u001b[1;33m:\u001b[0m\u001b[1;33m\u001b[0m\u001b[1;33m\u001b[0m\u001b[0m\n\u001b[1;32m--> 346\u001b[1;33m                 \u001b[0mself\u001b[0m\u001b[1;33m.\u001b[0m\u001b[0m__import__\u001b[0m\u001b[1;33m(\u001b[0m\u001b[0mvariable\u001b[0m\u001b[1;33m.\u001b[0m\u001b[0mowner\u001b[0m\u001b[1;33m,\u001b[0m \u001b[0mreason\u001b[0m\u001b[1;33m=\u001b[0m\u001b[0mreason\u001b[0m\u001b[1;33m)\u001b[0m\u001b[1;33m\u001b[0m\u001b[1;33m\u001b[0m\u001b[0m\n\u001b[0m\u001b[0;32m    347\u001b[0m         elif (variable.owner is None and\n\u001b[0;32m    348\u001b[0m                 \u001b[1;32mnot\u001b[0m \u001b[0misinstance\u001b[0m\u001b[1;33m(\u001b[0m\u001b[0mvariable\u001b[0m\u001b[1;33m,\u001b[0m \u001b[0mgraph\u001b[0m\u001b[1;33m.\u001b[0m\u001b[0mConstant\u001b[0m\u001b[1;33m)\u001b[0m \u001b[1;32mand\u001b[0m\u001b[1;33m\u001b[0m\u001b[1;33m\u001b[0m\u001b[0m\n",
      "\u001b[1;32m~\\anaconda3\\lib\\site-packages\\theano\\gof\\fg.py\u001b[0m in \u001b[0;36m__import__\u001b[1;34m(self, apply_node, check, reason)\u001b[0m\n\u001b[0;32m    389\u001b[0m                                      \u001b[1;34m\"for more information on this error.\"\u001b[0m\u001b[1;33m\u001b[0m\u001b[1;33m\u001b[0m\u001b[0m\n\u001b[0;32m    390\u001b[0m                                      % (node.inputs.index(r), str(node)))\n\u001b[1;32m--> 391\u001b[1;33m                         \u001b[1;32mraise\u001b[0m \u001b[0mMissingInputError\u001b[0m\u001b[1;33m(\u001b[0m\u001b[0merror_msg\u001b[0m\u001b[1;33m,\u001b[0m \u001b[0mvariable\u001b[0m\u001b[1;33m=\u001b[0m\u001b[0mr\u001b[0m\u001b[1;33m)\u001b[0m\u001b[1;33m\u001b[0m\u001b[1;33m\u001b[0m\u001b[0m\n\u001b[0m\u001b[0;32m    392\u001b[0m \u001b[1;33m\u001b[0m\u001b[0m\n\u001b[0;32m    393\u001b[0m         \u001b[1;32mfor\u001b[0m \u001b[0mnode\u001b[0m \u001b[1;32min\u001b[0m \u001b[0mnew_nodes\u001b[0m\u001b[1;33m:\u001b[0m\u001b[1;33m\u001b[0m\u001b[1;33m\u001b[0m\u001b[0m\n",
      "\u001b[1;31mMissingInputError\u001b[0m: Input 0 of the graph (indices start from 0), used to compute sigmoid(r_interval__), was not provided and not given a value. Use the Theano flag exception_verbosity='high', for more information on this error."
     ]
    }
   ],
   "source": [
    "model = read_data(211924657, 5)\n",
    "model.optimise()"
   ]
  },
  {
   "cell_type": "code",
   "execution_count": null,
   "metadata": {},
   "outputs": [],
   "source": []
  },
  {
   "cell_type": "code",
   "execution_count": 12,
   "metadata": {
    "collapsed": true
   },
   "outputs": [
    {
     "name": "stdout",
     "output_type": "stream",
     "text": [
      "Calculated parameters: t0 = 2308.9307322105965, Calculated period = 2.6482822734011617\n",
      "Using calculated parameters.\n",
      "Optimising the shape of the orbital model:\n"
     ]
    },
    {
     "name": "stderr",
     "output_type": "stream",
     "text": [
      "optimizing logp for variables: [b, r, u, t0, mean]\n"
     ]
    },
    {
     "data": {
      "application/vnd.jupyter.widget-view+json": {
       "model_id": "be8ec3eb30004525b2457a1fbb4a41ff",
       "version_major": 2,
       "version_minor": 0
      },
      "text/plain": [
       "HBox(children=(FloatProgress(value=1.0, bar_style='info', layout=Layout(width='20px'), max=1.0), HTML(value=''…"
      ]
     },
     "metadata": {},
     "output_type": "display_data"
    },
    {
     "name": "stdout",
     "output_type": "stream",
     "text": [
      "\n",
      "\t mean = 1.0000011585778217\n",
      "\t t0 = 0.018196242319129464\n",
      "\t u = [ 1.09128477 -0.36949866]\n",
      "\t r = 0.036871964240770126\n",
      "\t b = 0.07836661560919149\n",
      "Fitting ttv for transit number 0\n"
     ]
    },
    {
     "name": "stderr",
     "output_type": "stream",
     "text": [
      "message: Desired error not necessarily achieved due to precision loss.\n",
      "logp: 21555.9628227488 -> 22197.544082778284\n"
     ]
    },
    {
     "name": "stdout",
     "output_type": "stream",
     "text": [
      "\t ttv 0 = 0.07150719836647619\n",
      "Fitting ttv for transit number 1\n",
      "\t ttv 1 = 0.06659450914615002\n",
      "Fitting ttv for transit number 2\n",
      "\t ttv 2 = 0.05388032529411961\n",
      "Fitting ttv for transit number 3\n",
      "\t ttv 3 = 0.04431863055458285\n",
      "Fitting ttv for transit number 4\n",
      "\t ttv 4 = 0.05377863756824932\n",
      "Fitting ttv for transit number 5\n",
      "\t ttv 5 = 0.0574504215778292\n",
      "Fitting ttv for transit number 6\n",
      "\t ttv 6 = 0.048893146285199904\n",
      "Fitting ttv for transit number 7\n",
      "\t ttv 7 = 0.03205258756649875\n",
      "Fitting ttv for transit number 8\n",
      "\t ttv 8 = 0.018840881874680384\n",
      "Fitting ttv for transit number 9\n",
      "\t ttv 9 = 0.03138704582196302\n",
      "Fitting ttv for transit number 10\n",
      "\t ttv 10 = 0.019416422899234176\n",
      "Fitting ttv for transit number 11\n",
      "\t ttv 11 = 0.02593562339699783\n",
      "Fitting ttv for transit number 12\n",
      "\t ttv 12 = 0.014335969655813074\n",
      "Fitting ttv for transit number 13\n",
      "\t ttv 13 = 0.017318730253776254\n",
      "Fitting ttv for transit number 14\n",
      "\t ttv 14 = 0.00511483928460031\n",
      "Fitting ttv for transit number 15\n",
      "\t ttv 15 = 0.015747658957644867\n",
      "Fitting ttv for transit number 16\n",
      "\t ttv 16 = 0.004192820596895662\n",
      "Fitting ttv for transit number 17\n",
      "\t ttv 17 = -0.004955148848365589\n",
      "Fitting ttv for transit number 18\n",
      "\t ttv 18 = -0.001007909531723242\n",
      "Fitting ttv for transit number 19\n",
      "\t ttv 19 = -0.012329470806194074\n",
      "Fitting ttv for transit number 20\n",
      "\t ttv 20 = -0.0054493723492837305\n",
      "Fitting ttv for transit number 21\n",
      "\t ttv 21 = -0.0072815930787555275\n",
      "Fitting ttv for transit number 22\n",
      "\t ttv 22 = -0.007432043481082511\n",
      "Fitting ttv for transit number 23\n",
      "\t ttv 23 = -0.006279346006116856\n",
      "Fitting ttv for transit number 24\n",
      "\t ttv 24 = 0.0003172400862830123\n",
      "Fitting ttv for transit number 25\n",
      "\t ttv 25 = -0.011553904346114714\n",
      "Fitting ttv for transit number 26\n",
      "\t ttv 26 = 0.00012528414365911412\n",
      "Fitting ttv for transit number 27\n",
      "\t ttv 27 = 0.02387594286358104\n",
      "Optimising the shape of the orbital model:\n"
     ]
    },
    {
     "name": "stderr",
     "output_type": "stream",
     "text": [
      "optimizing logp for variables: [b, r, u, t0, mean]\n"
     ]
    },
    {
     "data": {
      "application/vnd.jupyter.widget-view+json": {
       "model_id": "a705f77c6afb4fa0a4b5239ea1ede990",
       "version_major": 2,
       "version_minor": 0
      },
      "text/plain": [
       "HBox(children=(FloatProgress(value=1.0, bar_style='info', layout=Layout(width='20px'), max=1.0), HTML(value=''…"
      ]
     },
     "metadata": {},
     "output_type": "display_data"
    },
    {
     "name": "stdout",
     "output_type": "stream",
     "text": [
      "\n",
      "\t mean = 1.0000080904825441\n",
      "\t t0 = 0.000167629564927547\n",
      "\t u = [ 1.87787523 -0.90415974]\n",
      "\t r = 0.065365627349976\n",
      "\t b = 0.7523312855096542\n",
      "Fitting ttv for transit number 0\n"
     ]
    },
    {
     "name": "stderr",
     "output_type": "stream",
     "text": [
      "message: Desired error not necessarily achieved due to precision loss.\n",
      "logp: 22472.726802056743 -> 22851.746934449187\n"
     ]
    },
    {
     "name": "stdout",
     "output_type": "stream",
     "text": [
      "\t ttv 0 = 0.07348043760198013\n",
      "Fitting ttv for transit number 1\n",
      "\t ttv 1 = 0.06646720807466043\n",
      "Fitting ttv for transit number 2\n",
      "\t ttv 2 = 0.06930073788555295\n",
      "Fitting ttv for transit number 3\n",
      "\t ttv 3 = 0.06117724681090411\n",
      "Fitting ttv for transit number 4\n",
      "\t ttv 4 = 0.057428314392895384\n",
      "Fitting ttv for transit number 5\n",
      "\t ttv 5 = 0.05455446148819773\n",
      "Fitting ttv for transit number 6\n",
      "\t ttv 6 = 0.048416065085808646\n",
      "Fitting ttv for transit number 7\n",
      "\t ttv 7 = 0.04449806849004066\n",
      "Fitting ttv for transit number 8\n",
      "\t ttv 8 = 0.039335140887362216\n",
      "Fitting ttv for transit number 9\n",
      "\t ttv 9 = 0.030710012043801097\n",
      "Fitting ttv for transit number 10\n",
      "\t ttv 10 = 0.025614194788166397\n",
      "Fitting ttv for transit number 11\n",
      "\t ttv 11 = 0.023928245077173286\n",
      "Fitting ttv for transit number 12\n",
      "\t ttv 12 = 0.014021202624074103\n",
      "Fitting ttv for transit number 13\n",
      "\t ttv 13 = 0.013983193832703007\n",
      "Fitting ttv for transit number 14\n",
      "\t ttv 14 = 0.006205183398318465\n",
      "Fitting ttv for transit number 15\n",
      "\t ttv 15 = 0.0053368385424227525\n",
      "Fitting ttv for transit number 16\n",
      "\t ttv 16 = 0.00025575821797595063\n",
      "Fitting ttv for transit number 17\n",
      "\t ttv 17 = -0.006443719839710707\n",
      "Fitting ttv for transit number 18\n",
      "\t ttv 18 = -0.008172869286902543\n",
      "Fitting ttv for transit number 19\n",
      "\t ttv 19 = -0.012378776252096\n",
      "Fitting ttv for transit number 20\n",
      "\t ttv 20 = -0.01158173481810471\n",
      "Fitting ttv for transit number 21\n",
      "\t ttv 21 = -0.013416224228777415\n",
      "Fitting ttv for transit number 22\n",
      "\t ttv 22 = -0.00877879891044524\n",
      "Fitting ttv for transit number 23\n",
      "\t ttv 23 = -0.007416135836564264\n",
      "Fitting ttv for transit number 24\n",
      "\t ttv 24 = -0.006038989027216343\n",
      "Fitting ttv for transit number 25\n",
      "\t ttv 25 = -0.004643615700265521\n",
      "Fitting ttv for transit number 26\n",
      "\t ttv 26 = 0.00011858958790525604\n",
      "Fitting ttv for transit number 27\n",
      "\t ttv 27 = 0.01131566258654675\n",
      "Optimising the shape of the orbital model:\n"
     ]
    },
    {
     "name": "stderr",
     "output_type": "stream",
     "text": [
      "optimizing logp for variables: [b, r, u, t0, mean]\n"
     ]
    },
    {
     "data": {
      "application/vnd.jupyter.widget-view+json": {
       "model_id": "9f1baf0139ad4bc89277f68a0497bb59",
       "version_major": 2,
       "version_minor": 0
      },
      "text/plain": [
       "HBox(children=(FloatProgress(value=1.0, bar_style='info', layout=Layout(width='20px'), max=1.0), HTML(value=''…"
      ]
     },
     "metadata": {},
     "output_type": "display_data"
    },
    {
     "name": "stdout",
     "output_type": "stream",
     "text": [
      "\n",
      "\t mean = 1.0000078277524382\n",
      "\t t0 = 9.767957593023372e-05\n",
      "\t u = [ 1.46991459 -0.55081523]\n",
      "\t r = 0.07331400689457176\n",
      "\t b = 0.8340930861043249\n"
     ]
    },
    {
     "name": "stderr",
     "output_type": "stream",
     "text": [
      "message: Desired error not necessarily achieved due to precision loss.\n",
      "logp: 22445.959710938147 -> 23001.946988335098\n",
      "Sequential sampling (2 chains in 1 job)\n",
      "NUTS: [b, r, u, t0, mean]\n",
      "Sampling chain 0, 0 divergences: 100%|██████████| 6000/6000 [00:50<00:00, 118.42it/s]\n",
      "Sampling chain 1, 0 divergences: 100%|██████████| 6000/6000 [00:43<00:00, 138.93it/s]\n"
     ]
    },
    {
     "name": "stdout",
     "output_type": "stream",
     "text": [
      "\t mean = 1.000007732447557 +/- 8.465422740718729e-06\n",
      "\t t0 = 9.365384425739207e-05 +/- 0.0003911940687665539\n",
      "\t u = [ 1.52042657 -0.60361011] +/- [0.2987535  0.29594162]\n",
      "\t r = 0.07327712478495679 +/- 0.0026644476803940383\n",
      "\t b = 0.8325272799858472 +/- 0.01513451681050078\n",
      "Fitting ttv for transit number 0\n",
      "\t ttv 0 = 0.07314523545272897\n"
     ]
    },
    {
     "name": "stderr",
     "output_type": "stream",
     "text": [
      "Sequential sampling (2 chains in 1 job)\n",
      "NUTS: [ttv]\n",
      "Sampling chain 0, 0 divergences: 100%|██████████| 1000/1000 [00:01<00:00, 639.14it/s]\n",
      "Sampling chain 1, 0 divergences: 100%|██████████| 1000/1000 [00:00<00:00, 1077.87it/s]\n"
     ]
    },
    {
     "name": "stdout",
     "output_type": "stream",
     "text": [
      "\t ttv 0 = 0.07277011966654177 +/- 0.0023620793969439282\n",
      "Fitting ttv for transit number 1\n",
      "\t ttv 1 = 0.06583192469242576\n"
     ]
    },
    {
     "name": "stderr",
     "output_type": "stream",
     "text": [
      "Sequential sampling (2 chains in 1 job)\n",
      "NUTS: [ttv]\n",
      "Sampling chain 0, 0 divergences: 100%|██████████| 1000/1000 [00:01<00:00, 998.95it/s]\n",
      "Sampling chain 1, 0 divergences: 100%|██████████| 1000/1000 [00:00<00:00, 1089.72it/s]\n",
      "The estimated number of effective samples is smaller than 200 for some parameters.\n"
     ]
    },
    {
     "name": "stdout",
     "output_type": "stream",
     "text": [
      "\t ttv 1 = 0.06584673295771498 +/- 0.0021968676921556613\n",
      "Fitting ttv for transit number 2\n",
      "\t ttv 2 = 0.0698537748627633\n"
     ]
    },
    {
     "name": "stderr",
     "output_type": "stream",
     "text": [
      "Sequential sampling (2 chains in 1 job)\n",
      "NUTS: [ttv]\n",
      "Sampling chain 0, 0 divergences: 100%|██████████| 1000/1000 [00:01<00:00, 920.29it/s]\n",
      "Sampling chain 1, 0 divergences: 100%|██████████| 1000/1000 [00:00<00:00, 1025.04it/s]\n"
     ]
    },
    {
     "name": "stdout",
     "output_type": "stream",
     "text": [
      "\t ttv 2 = 0.06953306783490845 +/- 0.0021154749438936286\n",
      "Fitting ttv for transit number 3\n",
      "\t ttv 3 = 0.0629942636864681\n"
     ]
    },
    {
     "name": "stderr",
     "output_type": "stream",
     "text": [
      "Sequential sampling (2 chains in 1 job)\n",
      "NUTS: [ttv]\n",
      "Sampling chain 0, 0 divergences: 100%|██████████| 1000/1000 [00:01<00:00, 783.01it/s]\n",
      "Sampling chain 1, 0 divergences: 100%|██████████| 1000/1000 [00:00<00:00, 1028.10it/s]\n",
      "The number of effective samples is smaller than 25% for some parameters.\n"
     ]
    },
    {
     "name": "stdout",
     "output_type": "stream",
     "text": [
      "\t ttv 3 = 0.0620354795306096 +/- 0.0035264914987750188\n",
      "Fitting ttv for transit number 4\n",
      "\t ttv 4 = 0.05836131746408329\n"
     ]
    },
    {
     "name": "stderr",
     "output_type": "stream",
     "text": [
      "Sequential sampling (2 chains in 1 job)\n",
      "NUTS: [ttv]\n",
      "Sampling chain 0, 0 divergences: 100%|██████████| 1000/1000 [00:01<00:00, 603.08it/s]\n",
      "Sampling chain 1, 0 divergences: 100%|██████████| 1000/1000 [00:00<00:00, 1088.92it/s]\n"
     ]
    },
    {
     "name": "stdout",
     "output_type": "stream",
     "text": [
      "\t ttv 4 = 0.05865831714045558 +/- 0.002282427741260058\n",
      "Fitting ttv for transit number 5\n",
      "\t ttv 5 = 0.05479947528116524\n"
     ]
    },
    {
     "name": "stderr",
     "output_type": "stream",
     "text": [
      "Sequential sampling (2 chains in 1 job)\n",
      "NUTS: [ttv]\n",
      "Sampling chain 0, 0 divergences: 100%|██████████| 1000/1000 [00:01<00:00, 790.93it/s]\n",
      "Sampling chain 1, 0 divergences: 100%|██████████| 1000/1000 [00:00<00:00, 1059.89it/s]\n",
      "The number of effective samples is smaller than 25% for some parameters.\n"
     ]
    },
    {
     "name": "stdout",
     "output_type": "stream",
     "text": [
      "\t ttv 5 = 0.054571240296388615 +/- 0.0021144714658371555\n",
      "Fitting ttv for transit number 6\n",
      "\t ttv 6 = 0.048335274739698036\n"
     ]
    },
    {
     "name": "stderr",
     "output_type": "stream",
     "text": [
      "Sequential sampling (2 chains in 1 job)\n",
      "NUTS: [ttv]\n",
      "Sampling chain 0, 0 divergences: 100%|██████████| 1000/1000 [00:02<00:00, 456.04it/s]\n",
      "Sampling chain 1, 0 divergences: 100%|██████████| 1000/1000 [00:01<00:00, 940.46it/s]\n"
     ]
    },
    {
     "name": "stdout",
     "output_type": "stream",
     "text": [
      "\t ttv 6 = 0.04841439291980888 +/- 0.001903551064667383\n",
      "Fitting ttv for transit number 7\n",
      "\t ttv 7 = 0.04449350655401237\n"
     ]
    },
    {
     "name": "stderr",
     "output_type": "stream",
     "text": [
      "Sequential sampling (2 chains in 1 job)\n",
      "NUTS: [ttv]\n",
      "Sampling chain 0, 0 divergences: 100%|██████████| 1000/1000 [00:01<00:00, 835.57it/s]\n",
      "Sampling chain 1, 0 divergences: 100%|██████████| 1000/1000 [00:00<00:00, 1060.12it/s]\n"
     ]
    },
    {
     "name": "stdout",
     "output_type": "stream",
     "text": [
      "\t ttv 7 = 0.044760162516145126 +/- 0.0024015758428817687\n",
      "Fitting ttv for transit number 8\n",
      "\t ttv 8 = 0.03956825963331444\n"
     ]
    },
    {
     "name": "stderr",
     "output_type": "stream",
     "text": [
      "Sequential sampling (2 chains in 1 job)\n",
      "NUTS: [ttv]\n",
      "Sampling chain 0, 0 divergences: 100%|██████████| 1000/1000 [00:01<00:00, 874.46it/s]\n",
      "Sampling chain 1, 0 divergences: 100%|██████████| 1000/1000 [00:01<00:00, 975.78it/s]\n"
     ]
    },
    {
     "name": "stdout",
     "output_type": "stream",
     "text": [
      "\t ttv 8 = 0.03979330815107136 +/- 0.0019934741347484713\n",
      "Fitting ttv for transit number 9\n",
      "\t ttv 9 = 0.030743225722648843\n"
     ]
    },
    {
     "name": "stderr",
     "output_type": "stream",
     "text": [
      "Sequential sampling (2 chains in 1 job)\n",
      "NUTS: [ttv]\n",
      "Sampling chain 0, 0 divergences: 100%|██████████| 1000/1000 [00:01<00:00, 886.67it/s]\n",
      "Sampling chain 1, 0 divergences: 100%|██████████| 1000/1000 [00:00<00:00, 1053.05it/s]\n"
     ]
    },
    {
     "name": "stdout",
     "output_type": "stream",
     "text": [
      "\t ttv 9 = 0.030820902154131864 +/- 0.0018743180018439818\n",
      "Fitting ttv for transit number 10\n",
      "\t ttv 10 = 0.025651608874251178\n"
     ]
    },
    {
     "name": "stderr",
     "output_type": "stream",
     "text": [
      "Sequential sampling (2 chains in 1 job)\n",
      "NUTS: [ttv]\n",
      "Sampling chain 0, 0 divergences: 100%|██████████| 1000/1000 [00:01<00:00, 881.35it/s]\n",
      "Sampling chain 1, 0 divergences: 100%|██████████| 1000/1000 [00:00<00:00, 1089.26it/s]\n"
     ]
    },
    {
     "name": "stdout",
     "output_type": "stream",
     "text": [
      "\t ttv 10 = 0.025717208474103068 +/- 0.0022256823506736118\n",
      "Fitting ttv for transit number 11\n",
      "\t ttv 11 = 0.023934963020399408\n"
     ]
    },
    {
     "name": "stderr",
     "output_type": "stream",
     "text": [
      "Sequential sampling (2 chains in 1 job)\n",
      "NUTS: [ttv]\n",
      "Sampling chain 0, 0 divergences: 100%|██████████| 1000/1000 [00:01<00:00, 858.81it/s]\n",
      "Sampling chain 1, 0 divergences: 100%|██████████| 1000/1000 [00:00<00:00, 1116.76it/s]\n"
     ]
    },
    {
     "name": "stdout",
     "output_type": "stream",
     "text": [
      "\t ttv 11 = 0.024002336309108845 +/- 0.0018837747049049243\n",
      "Fitting ttv for transit number 12\n",
      "\t ttv 12 = 0.014272097496716204\n"
     ]
    },
    {
     "name": "stderr",
     "output_type": "stream",
     "text": [
      "Sequential sampling (2 chains in 1 job)\n",
      "NUTS: [ttv]\n",
      "Sampling chain 0, 0 divergences: 100%|██████████| 1000/1000 [00:01<00:00, 893.62it/s]\n",
      "Sampling chain 1, 0 divergences: 100%|██████████| 1000/1000 [00:00<00:00, 1047.89it/s]\n"
     ]
    },
    {
     "name": "stdout",
     "output_type": "stream",
     "text": [
      "\t ttv 12 = 0.014445604224236236 +/- 0.0020379234023820336\n",
      "Fitting ttv for transit number 13\n",
      "\t ttv 13 = 0.01390006158559861\n"
     ]
    },
    {
     "name": "stderr",
     "output_type": "stream",
     "text": [
      "Sequential sampling (2 chains in 1 job)\n",
      "NUTS: [ttv]\n",
      "Sampling chain 0, 0 divergences: 100%|██████████| 1000/1000 [00:01<00:00, 840.09it/s]\n",
      "Sampling chain 1, 0 divergences: 100%|██████████| 1000/1000 [00:00<00:00, 1076.87it/s]\n"
     ]
    },
    {
     "name": "stdout",
     "output_type": "stream",
     "text": [
      "\t ttv 13 = 0.01383953451538136 +/- 0.002134822527749184\n",
      "Fitting ttv for transit number 14\n",
      "\t ttv 14 = 0.006224638511276\n"
     ]
    },
    {
     "name": "stderr",
     "output_type": "stream",
     "text": [
      "Sequential sampling (2 chains in 1 job)\n",
      "NUTS: [ttv]\n",
      "Sampling chain 0, 0 divergences: 100%|██████████| 1000/1000 [00:01<00:00, 894.24it/s]\n",
      "Sampling chain 1, 0 divergences: 100%|██████████| 1000/1000 [00:00<00:00, 1032.75it/s]\n"
     ]
    },
    {
     "name": "stdout",
     "output_type": "stream",
     "text": [
      "\t ttv 14 = 0.0061396339408606 +/- 0.0019277927914024278\n",
      "Fitting ttv for transit number 15\n",
      "\t ttv 15 = 0.005238989874453615\n"
     ]
    },
    {
     "name": "stderr",
     "output_type": "stream",
     "text": [
      "Sequential sampling (2 chains in 1 job)\n",
      "NUTS: [ttv]\n",
      "Sampling chain 0, 0 divergences: 100%|██████████| 1000/1000 [00:01<00:00, 865.02it/s]\n",
      "Sampling chain 1, 0 divergences: 100%|██████████| 1000/1000 [00:00<00:00, 1073.33it/s]\n"
     ]
    },
    {
     "name": "stdout",
     "output_type": "stream",
     "text": [
      "\t ttv 15 = 0.004921192213304465 +/- 0.002573792888643982\n",
      "Fitting ttv for transit number 16\n",
      "\t ttv 16 = 7.832813968057041e-05\n"
     ]
    },
    {
     "name": "stderr",
     "output_type": "stream",
     "text": [
      "Sequential sampling (2 chains in 1 job)\n",
      "NUTS: [ttv]\n",
      "Sampling chain 0, 0 divergences: 100%|██████████| 1000/1000 [00:01<00:00, 950.90it/s]\n",
      "Sampling chain 1, 0 divergences: 100%|██████████| 1000/1000 [00:00<00:00, 1045.29it/s]\n"
     ]
    },
    {
     "name": "stdout",
     "output_type": "stream",
     "text": [
      "\t ttv 16 = 0.00019341334575597965 +/- 0.0018889218283070965\n",
      "Fitting ttv for transit number 17\n",
      "\t ttv 17 = -0.004255562054622567\n"
     ]
    },
    {
     "name": "stderr",
     "output_type": "stream",
     "text": [
      "Sequential sampling (2 chains in 1 job)\n",
      "NUTS: [ttv]\n",
      "Sampling chain 0, 0 divergences: 100%|██████████| 1000/1000 [00:01<00:00, 939.13it/s]\n",
      "Sampling chain 1, 0 divergences: 100%|██████████| 1000/1000 [00:00<00:00, 1044.68it/s]\n"
     ]
    },
    {
     "name": "stdout",
     "output_type": "stream",
     "text": [
      "\t ttv 17 = -0.004040085708288782 +/- 0.00240984875533029\n",
      "Fitting ttv for transit number 18\n",
      "\t ttv 18 = -0.0074550041772073385\n"
     ]
    },
    {
     "name": "stderr",
     "output_type": "stream",
     "text": [
      "Sequential sampling (2 chains in 1 job)\n",
      "NUTS: [ttv]\n",
      "Sampling chain 0, 0 divergences: 100%|██████████| 1000/1000 [00:01<00:00, 936.21it/s]\n",
      "Sampling chain 1, 0 divergences: 100%|██████████| 1000/1000 [00:00<00:00, 1078.67it/s]\n"
     ]
    },
    {
     "name": "stdout",
     "output_type": "stream",
     "text": [
      "\t ttv 18 = -0.0074877782692266024 +/- 0.001769146150256195\n",
      "Fitting ttv for transit number 19\n",
      "\t ttv 19 = -0.012799771558692056\n"
     ]
    },
    {
     "name": "stderr",
     "output_type": "stream",
     "text": [
      "Sequential sampling (2 chains in 1 job)\n",
      "NUTS: [ttv]\n",
      "Sampling chain 0, 0 divergences: 100%|██████████| 1000/1000 [00:01<00:00, 840.43it/s]\n",
      "Sampling chain 1, 0 divergences: 100%|██████████| 1000/1000 [00:00<00:00, 1061.34it/s]\n"
     ]
    },
    {
     "name": "stdout",
     "output_type": "stream",
     "text": [
      "\t ttv 19 = -0.012730302234308993 +/- 0.001963294205488146\n",
      "Fitting ttv for transit number 20\n",
      "\t ttv 20 = -0.012575106715286239\n"
     ]
    },
    {
     "name": "stderr",
     "output_type": "stream",
     "text": [
      "Sequential sampling (2 chains in 1 job)\n",
      "NUTS: [ttv]\n",
      "Sampling chain 0, 0 divergences: 100%|██████████| 1000/1000 [00:01<00:00, 683.70it/s]\n",
      "Sampling chain 1, 0 divergences: 100%|██████████| 1000/1000 [00:01<00:00, 946.38it/s]\n"
     ]
    },
    {
     "name": "stdout",
     "output_type": "stream",
     "text": [
      "\t ttv 20 = -0.012385296948671007 +/- 0.0022056972716558987\n",
      "Fitting ttv for transit number 21\n",
      "\t ttv 21 = -0.013107851269539676\n"
     ]
    },
    {
     "name": "stderr",
     "output_type": "stream",
     "text": [
      "Sequential sampling (2 chains in 1 job)\n",
      "NUTS: [ttv]\n",
      "Sampling chain 0, 0 divergences: 100%|██████████| 1000/1000 [00:01<00:00, 813.40it/s]\n",
      "Sampling chain 1, 0 divergences: 100%|██████████| 1000/1000 [00:00<00:00, 1070.80it/s]\n"
     ]
    },
    {
     "name": "stdout",
     "output_type": "stream",
     "text": [
      "\t ttv 21 = -0.013007744952923351 +/- 0.002462954586981188\n",
      "Fitting ttv for transit number 22\n",
      "\t ttv 22 = -0.008442981284882526\n"
     ]
    },
    {
     "name": "stderr",
     "output_type": "stream",
     "text": [
      "Sequential sampling (2 chains in 1 job)\n",
      "NUTS: [ttv]\n",
      "Sampling chain 0, 0 divergences: 100%|██████████| 1000/1000 [00:01<00:00, 905.64it/s]\n",
      "Sampling chain 1, 0 divergences: 100%|██████████| 1000/1000 [00:00<00:00, 1031.21it/s]\n"
     ]
    },
    {
     "name": "stdout",
     "output_type": "stream",
     "text": [
      "\t ttv 22 = -0.008331296231339665 +/- 0.0020463188599393325\n",
      "Fitting ttv for transit number 23\n",
      "\t ttv 23 = -0.007858557069508698\n"
     ]
    },
    {
     "name": "stderr",
     "output_type": "stream",
     "text": [
      "Sequential sampling (2 chains in 1 job)\n",
      "NUTS: [ttv]\n",
      "Sampling chain 0, 0 divergences: 100%|██████████| 1000/1000 [00:01<00:00, 964.06it/s]\n",
      "Sampling chain 1, 0 divergences: 100%|██████████| 1000/1000 [00:00<00:00, 1078.22it/s]\n"
     ]
    },
    {
     "name": "stdout",
     "output_type": "stream",
     "text": [
      "\t ttv 23 = -0.008023141020131817 +/- 0.0022674032713019166\n",
      "Fitting ttv for transit number 24\n",
      "\t ttv 24 = -0.006196634549289716\n"
     ]
    },
    {
     "name": "stderr",
     "output_type": "stream",
     "text": [
      "Sequential sampling (2 chains in 1 job)\n",
      "NUTS: [ttv]\n",
      "Sampling chain 0, 0 divergences: 100%|██████████| 1000/1000 [00:01<00:00, 888.88it/s]\n",
      "Sampling chain 1, 0 divergences: 100%|██████████| 1000/1000 [00:00<00:00, 1041.91it/s]\n"
     ]
    },
    {
     "name": "stdout",
     "output_type": "stream",
     "text": [
      "\t ttv 24 = -0.006424401898667562 +/- 0.0022391668790293045\n",
      "Fitting ttv for transit number 25\n",
      "\t ttv 25 = -0.004523096138887977\n"
     ]
    },
    {
     "name": "stderr",
     "output_type": "stream",
     "text": [
      "Sequential sampling (2 chains in 1 job)\n",
      "NUTS: [ttv]\n",
      "Sampling chain 0, 0 divergences: 100%|██████████| 1000/1000 [00:01<00:00, 651.89it/s]\n",
      "Sampling chain 1, 0 divergences: 100%|██████████| 1000/1000 [00:01<00:00, 923.42it/s]\n"
     ]
    },
    {
     "name": "stdout",
     "output_type": "stream",
     "text": [
      "\t ttv 25 = -0.004408922607392126 +/- 0.002162230145592172\n",
      "Fitting ttv for transit number 26\n",
      "\t ttv 26 = 0.0002736977518190354\n"
     ]
    },
    {
     "name": "stderr",
     "output_type": "stream",
     "text": [
      "Sequential sampling (2 chains in 1 job)\n",
      "NUTS: [ttv]\n",
      "Sampling chain 0, 0 divergences: 100%|██████████| 1000/1000 [00:01<00:00, 848.27it/s]\n",
      "Sampling chain 1, 0 divergences: 100%|██████████| 1000/1000 [00:01<00:00, 958.74it/s]\n"
     ]
    },
    {
     "name": "stdout",
     "output_type": "stream",
     "text": [
      "\t ttv 26 = 0.0003328051238294979 +/- 0.002380897172538994\n",
      "Fitting ttv for transit number 27\n",
      "\t ttv 27 = 0.010087206969453822\n"
     ]
    },
    {
     "name": "stderr",
     "output_type": "stream",
     "text": [
      "Sequential sampling (2 chains in 1 job)\n",
      "NUTS: [ttv]\n",
      "Sampling chain 0, 0 divergences: 100%|██████████| 1000/1000 [00:01<00:00, 910.26it/s]\n",
      "Sampling chain 1, 0 divergences: 100%|██████████| 1000/1000 [00:01<00:00, 980.59it/s]\n"
     ]
    },
    {
     "name": "stdout",
     "output_type": "stream",
     "text": [
      "\t ttv 27 = 0.010134919588005782 +/- 0.0017379831303368201\n",
      "Calculated parameters: t0 = 3262.8878187289683, Calculated period = 2.6570698471821683\n",
      "Using calculated parameters.\n",
      "Optimising the shape of the orbital model:\n"
     ]
    },
    {
     "name": "stderr",
     "output_type": "stream",
     "text": [
      "optimizing logp for variables: [b, r, u, t0, mean]\n"
     ]
    },
    {
     "data": {
      "application/vnd.jupyter.widget-view+json": {
       "model_id": "925c02daeaac4849b66d70d8407e41db",
       "version_major": 2,
       "version_minor": 0
      },
      "text/plain": [
       "HBox(children=(FloatProgress(value=1.0, bar_style='info', layout=Layout(width='20px'), max=1.0), HTML(value=''…"
      ]
     },
     "metadata": {},
     "output_type": "display_data"
    },
    {
     "name": "stdout",
     "output_type": "stream",
     "text": [
      "\n",
      "\t mean = 0.9999633709663694\n",
      "\t t0 = 0.01694498384448916\n",
      "\t u = [ 0.06431723 -0.00698952]\n",
      "\t r = 0.040833409935003444\n",
      "\t b = 0.7940281034478863\n",
      "Fitting ttv for transit number 0\n"
     ]
    },
    {
     "name": "stderr",
     "output_type": "stream",
     "text": [
      "message: Desired error not necessarily achieved due to precision loss.\n",
      "logp: 21403.62189803807 -> 22465.448659143614\n"
     ]
    },
    {
     "name": "stdout",
     "output_type": "stream",
     "text": [
      "\t ttv 0 = -0.0058811480954006215\n",
      "Fitting ttv for transit number 1\n",
      "\t ttv 1 = 0.01726224450620067\n",
      "Fitting ttv for transit number 2\n",
      "\t ttv 2 = -0.004275583129382267\n",
      "Fitting ttv for transit number 3\n",
      "\t ttv 3 = -0.00700623978718389\n",
      "Fitting ttv for transit number 4\n",
      "\t ttv 4 = -0.006788395920599459\n",
      "Fitting ttv for transit number 5\n",
      "\t ttv 5 = 0.012857135230013927\n",
      "Fitting ttv for transit number 6\n",
      "\t ttv 6 = 0.018269996722555925\n",
      "Fitting ttv for transit number 7\n",
      "\t ttv 7 = 0.01944777470637333\n",
      "Fitting ttv for transit number 8\n",
      "\t ttv 8 = 0.025851979339009675\n",
      "Fitting ttv for transit number 9\n",
      "\t ttv 9 = 0.04012635670198122\n",
      "Fitting ttv for transit number 10\n",
      "\t ttv 10 = 0.04014627852572147\n",
      "Fitting ttv for transit number 11\n",
      "\t ttv 11 = 0.03777270019874388\n",
      "Fitting ttv for transit number 12\n",
      "\t ttv 12 = 0.016853310823853884\n",
      "Fitting ttv for transit number 13\n",
      "\t ttv 13 = 0.05541273536255718\n",
      "Fitting ttv for transit number 14\n",
      "\t ttv 14 = 0.03863951474267015\n",
      "Fitting ttv for transit number 15\n",
      "\t ttv 15 = 0.05740071335023805\n",
      "Fitting ttv for transit number 16\n",
      "\t ttv 16 = 0.01641053161877371\n",
      "Fitting ttv for transit number 17\n",
      "\t ttv 17 = 0.03504665344873524\n",
      "Fitting ttv for transit number 18\n",
      "\t ttv 18 = 0.03446411288824317\n",
      "Fitting ttv for transit number 19\n",
      "\t ttv 19 = 0.021408103343316894\n",
      "Fitting ttv for transit number 20\n",
      "\t ttv 20 = 0.021821192470500853\n",
      "Fitting ttv for transit number 21\n",
      "\t ttv 21 = 0.018340911411126346\n",
      "Fitting ttv for transit number 22\n",
      "\t ttv 22 = 0.010651978382496718\n",
      "Fitting ttv for transit number 23\n",
      "\t ttv 23 = 0.004770818904449253\n",
      "Fitting ttv for transit number 24\n",
      "\t ttv 24 = -0.016347978736603083\n",
      "Fitting ttv for transit number 25\n",
      "\t ttv 25 = -0.01714882355153207\n",
      "Fitting ttv for transit number 26\n",
      "\t ttv 26 = -0.03660273888166021\n",
      "Fitting ttv for transit number 27\n",
      "\t ttv 27 = 0.022685157517587515\n",
      "Fitting ttv for transit number 28\n",
      "\t ttv 28 = 0.01134280080830268\n",
      "Fitting ttv for transit number 29\n",
      "\t ttv 29 = 0.010805751642502505\n",
      "Optimising the shape of the orbital model:\n"
     ]
    },
    {
     "name": "stderr",
     "output_type": "stream",
     "text": [
      "optimizing logp for variables: [b, r, u, t0, mean]\n"
     ]
    },
    {
     "data": {
      "application/vnd.jupyter.widget-view+json": {
       "model_id": "13b9e847550e449ba5fae43650cef214",
       "version_major": 2,
       "version_minor": 0
      },
      "text/plain": [
       "HBox(children=(FloatProgress(value=1.0, bar_style='info', layout=Layout(width='20px'), max=1.0), HTML(value=''…"
      ]
     },
     "metadata": {},
     "output_type": "display_data"
    },
    {
     "name": "stdout",
     "output_type": "stream",
     "text": [
      "\n",
      "\t mean = 0.99998114848772\n",
      "\t t0 = 0.0006616588051753108\n",
      "\t u = [ 0.92068832 -0.28363324]\n",
      "\t r = 0.054829503778761696\n",
      "\t b = 0.7991912927465681\n",
      "Fitting ttv for transit number 0\n"
     ]
    },
    {
     "name": "stderr",
     "output_type": "stream",
     "text": [
      "message: Desired error not necessarily achieved due to precision loss.\n",
      "logp: 22453.413564472743 -> 23086.309359504918\n"
     ]
    },
    {
     "name": "stdout",
     "output_type": "stream",
     "text": [
      "\t ttv 0 = 0.1261979623389017\n",
      "Fitting ttv for transit number 1\n",
      "\t ttv 1 = -0.04111349811473696\n",
      "Fitting ttv for transit number 2\n",
      "\t ttv 2 = -0.024832891434766573\n",
      "Fitting ttv for transit number 3\n",
      "\t ttv 3 = -0.01444378093709649\n",
      "Fitting ttv for transit number 4\n",
      "\t ttv 4 = -0.005307687656657147\n",
      "Fitting ttv for transit number 5\n",
      "\t ttv 5 = 0.009410431158604095\n",
      "Fitting ttv for transit number 6\n",
      "\t ttv 6 = 0.01770235111245696\n",
      "Fitting ttv for transit number 7\n",
      "\t ttv 7 = 0.024892802201403087\n",
      "Fitting ttv for transit number 8\n",
      "\t ttv 8 = 0.03275680107707446\n",
      "Fitting ttv for transit number 9\n",
      "\t ttv 9 = 0.04055618442881518\n",
      "Fitting ttv for transit number 10\n",
      "\t ttv 10 = 0.04472991437121872\n",
      "Fitting ttv for transit number 11\n",
      "\t ttv 11 = 0.050657388969069385\n",
      "Fitting ttv for transit number 12\n",
      "\t ttv 12 = 0.05320062766607343\n",
      "Fitting ttv for transit number 13\n",
      "\t ttv 13 = 0.055491802116993755\n",
      "Fitting ttv for transit number 14\n",
      "\t ttv 14 = 0.054310968967689215\n",
      "Fitting ttv for transit number 15\n",
      "\t ttv 15 = 0.05578297047409301\n",
      "Fitting ttv for transit number 16\n",
      "\t ttv 16 = 0.050628530323994704\n",
      "Fitting ttv for transit number 17\n",
      "\t ttv 17 = 0.04763101219606834\n",
      "Fitting ttv for transit number 18\n",
      "\t ttv 18 = 0.03859570667968183\n",
      "Fitting ttv for transit number 19\n",
      "\t ttv 19 = 0.033197487387493826\n",
      "Fitting ttv for transit number 20\n",
      "\t ttv 20 = 0.025790225147881134\n",
      "Fitting ttv for transit number 21\n",
      "\t ttv 21 = 0.018964939203258733\n",
      "Fitting ttv for transit number 22\n",
      "\t ttv 22 = 0.010615676779837208\n",
      "Fitting ttv for transit number 23\n",
      "\t ttv 23 = 0.00404436560960232\n",
      "Fitting ttv for transit number 24\n",
      "\t ttv 24 = -0.014356148362038171\n",
      "Fitting ttv for transit number 25\n",
      "\t ttv 25 = -0.022603267488467128\n",
      "Fitting ttv for transit number 26\n",
      "\t ttv 26 = 0.02727284484476167\n",
      "Fitting ttv for transit number 27\n",
      "\t ttv 27 = 0.02812656549534249\n",
      "Fitting ttv for transit number 28\n",
      "\t ttv 28 = 0.08768111821882532\n",
      "Fitting ttv for transit number 29\n",
      "\t ttv 29 = 0.025206074607707588\n",
      "Optimising the shape of the orbital model:\n"
     ]
    },
    {
     "name": "stderr",
     "output_type": "stream",
     "text": [
      "optimizing logp for variables: [b, r, u, t0, mean]\n"
     ]
    },
    {
     "data": {
      "application/vnd.jupyter.widget-view+json": {
       "model_id": "34e87bc21c6c42ebbd7c5cd0de4fbb2f",
       "version_major": 2,
       "version_minor": 0
      },
      "text/plain": [
       "HBox(children=(FloatProgress(value=1.0, bar_style='info', layout=Layout(width='20px'), max=1.0), HTML(value=''…"
      ]
     },
     "metadata": {},
     "output_type": "display_data"
    },
    {
     "name": "stdout",
     "output_type": "stream",
     "text": [
      "\n",
      "\t mean = 0.9999830306526458\n",
      "\t t0 = -0.00011102638312057318\n",
      "\t u = [ 0.8247752  -0.14387573]\n",
      "\t r = 0.06125539476232382\n",
      "\t b = 0.8416411628345447\n"
     ]
    },
    {
     "name": "stderr",
     "output_type": "stream",
     "text": [
      "message: Desired error not necessarily achieved due to precision loss.\n",
      "logp: 22586.78689315083 -> 23314.051490750324\n",
      "Sequential sampling (2 chains in 1 job)\n",
      "NUTS: [b, r, u, t0, mean]\n",
      "Sampling chain 0, 0 divergences: 100%|██████████| 6000/6000 [00:43<00:00, 138.05it/s]\n",
      "Sampling chain 1, 0 divergences: 100%|██████████| 6000/6000 [00:34<00:00, 175.41it/s]\n"
     ]
    },
    {
     "name": "stdout",
     "output_type": "stream",
     "text": [
      "\t mean = 0.9999829166283374 +/- 7.700206316659563e-06\n",
      "\t t0 = -0.0001028353483696027 +/- 0.0003297268645119583\n",
      "\t u = [0.67818557 0.01332542] +/- [0.38308806 0.41014293]\n",
      "\t r = 0.0604406257751733 +/- 0.0022166780612859877\n",
      "\t b = 0.8398393822173922 +/- 0.008993241692605316\n",
      "Fitting ttv for transit number 0\n",
      "\t ttv 0 = -0.14484744554382029\n"
     ]
    },
    {
     "name": "stderr",
     "output_type": "stream",
     "text": [
      "Sequential sampling (2 chains in 1 job)\n",
      "NUTS: [ttv]\n",
      "Sampling chain 0, 0 divergences: 100%|██████████| 1000/1000 [00:01<00:00, 745.21it/s]\n",
      "Sampling chain 1, 0 divergences: 100%|██████████| 1000/1000 [00:00<00:00, 1042.73it/s]\n"
     ]
    },
    {
     "name": "stdout",
     "output_type": "stream",
     "text": [
      "\t ttv 0 = -0.14490135295932294 +/- 0.0016744549059458142\n",
      "Fitting ttv for transit number 1\n",
      "\t ttv 1 = -0.040989038778452384\n"
     ]
    },
    {
     "name": "stderr",
     "output_type": "stream",
     "text": [
      "Sequential sampling (2 chains in 1 job)\n",
      "NUTS: [ttv]\n",
      "Sampling chain 0, 0 divergences: 100%|██████████| 1000/1000 [00:01<00:00, 822.88it/s]\n",
      "Sampling chain 1, 0 divergences: 100%|██████████| 1000/1000 [00:00<00:00, 1083.93it/s]\n"
     ]
    },
    {
     "name": "stdout",
     "output_type": "stream",
     "text": [
      "\t ttv 1 = -0.04099193350619068 +/- 0.0016983032340408802\n",
      "Fitting ttv for transit number 2\n",
      "\t ttv 2 = -0.024885619791416586\n"
     ]
    },
    {
     "name": "stderr",
     "output_type": "stream",
     "text": [
      "Sequential sampling (2 chains in 1 job)\n",
      "NUTS: [ttv]\n",
      "Sampling chain 0, 0 divergences: 100%|██████████| 1000/1000 [00:01<00:00, 653.15it/s]\n",
      "Sampling chain 1, 0 divergences: 100%|██████████| 1000/1000 [00:01<00:00, 962.26it/s]\n"
     ]
    },
    {
     "name": "stdout",
     "output_type": "stream",
     "text": [
      "\t ttv 2 = -0.025021222898331183 +/- 0.001718673487797428\n",
      "Fitting ttv for transit number 3\n",
      "\t ttv 3 = -0.015234909412389912\n"
     ]
    },
    {
     "name": "stderr",
     "output_type": "stream",
     "text": [
      "Sequential sampling (2 chains in 1 job)\n",
      "NUTS: [ttv]\n",
      "Sampling chain 0, 0 divergences: 100%|██████████| 1000/1000 [00:01<00:00, 608.98it/s]\n",
      "Sampling chain 1, 0 divergences: 100%|██████████| 1000/1000 [00:01<00:00, 778.14it/s]\n"
     ]
    },
    {
     "name": "stdout",
     "output_type": "stream",
     "text": [
      "\t ttv 3 = -0.01388468587161377 +/- 0.0028005336043222784\n",
      "Fitting ttv for transit number 4\n",
      "\t ttv 4 = -0.005527762604768449\n"
     ]
    },
    {
     "name": "stderr",
     "output_type": "stream",
     "text": [
      "Sequential sampling (2 chains in 1 job)\n",
      "NUTS: [ttv]\n",
      "Sampling chain 0, 0 divergences: 100%|██████████| 1000/1000 [00:01<00:00, 882.75it/s]\n",
      "Sampling chain 1, 0 divergences: 100%|██████████| 1000/1000 [00:01<00:00, 929.99it/s]\n"
     ]
    },
    {
     "name": "stdout",
     "output_type": "stream",
     "text": [
      "\t ttv 4 = -0.005733262047248885 +/- 0.0016927250745720599\n",
      "Fitting ttv for transit number 5\n",
      "\t ttv 5 = 0.009473916090849068\n"
     ]
    },
    {
     "name": "stderr",
     "output_type": "stream",
     "text": [
      "Sequential sampling (2 chains in 1 job)\n",
      "NUTS: [ttv]\n",
      "Sampling chain 0, 0 divergences: 100%|██████████| 1000/1000 [00:01<00:00, 687.58it/s]\n",
      "Sampling chain 1, 0 divergences: 100%|██████████| 1000/1000 [00:01<00:00, 823.91it/s]\n"
     ]
    },
    {
     "name": "stdout",
     "output_type": "stream",
     "text": [
      "\t ttv 5 = 0.008153499161642423 +/- 0.002890415790279089\n",
      "Fitting ttv for transit number 6\n",
      "\t ttv 6 = 0.017857261311473464\n"
     ]
    },
    {
     "name": "stderr",
     "output_type": "stream",
     "text": [
      "Sequential sampling (2 chains in 1 job)\n",
      "NUTS: [ttv]\n",
      "Sampling chain 0, 0 divergences: 100%|██████████| 1000/1000 [00:01<00:00, 834.73it/s]\n",
      "Sampling chain 1, 0 divergences: 100%|██████████| 1000/1000 [00:00<00:00, 1044.41it/s]\n"
     ]
    },
    {
     "name": "stdout",
     "output_type": "stream",
     "text": [
      "\t ttv 6 = 0.017882374646360437 +/- 0.0017567174630423988\n",
      "Fitting ttv for transit number 7\n",
      "\t ttv 7 = 0.02503050209763139\n"
     ]
    },
    {
     "name": "stderr",
     "output_type": "stream",
     "text": [
      "Sequential sampling (2 chains in 1 job)\n",
      "NUTS: [ttv]\n",
      "Sampling chain 0, 0 divergences: 100%|██████████| 1000/1000 [00:01<00:00, 826.85it/s]\n",
      "Sampling chain 1, 0 divergences: 100%|██████████| 1000/1000 [00:01<00:00, 824.47it/s]\n"
     ]
    },
    {
     "name": "stdout",
     "output_type": "stream",
     "text": [
      "\t ttv 7 = 0.02582082697596777 +/- 0.0029282231550989343\n",
      "Fitting ttv for transit number 8\n",
      "\t ttv 8 = 0.033167552561650555\n"
     ]
    },
    {
     "name": "stderr",
     "output_type": "stream",
     "text": [
      "Sequential sampling (2 chains in 1 job)\n",
      "NUTS: [ttv]\n",
      "Sampling chain 0, 0 divergences: 100%|██████████| 1000/1000 [00:01<00:00, 818.29it/s]\n",
      "Sampling chain 1, 0 divergences: 100%|██████████| 1000/1000 [00:00<00:00, 1017.89it/s]\n"
     ]
    },
    {
     "name": "stdout",
     "output_type": "stream",
     "text": [
      "\t ttv 8 = 0.03306080733318881 +/- 0.0016231967305585565\n",
      "Fitting ttv for transit number 9\n",
      "\t ttv 9 = 0.04209720846152425\n"
     ]
    },
    {
     "name": "stderr",
     "output_type": "stream",
     "text": [
      "Sequential sampling (2 chains in 1 job)\n",
      "NUTS: [ttv]\n",
      "Sampling chain 0, 0 divergences: 100%|██████████| 1000/1000 [00:01<00:00, 863.05it/s]\n",
      "Sampling chain 1, 0 divergences: 100%|██████████| 1000/1000 [00:00<00:00, 1025.52it/s]\n"
     ]
    },
    {
     "name": "stdout",
     "output_type": "stream",
     "text": [
      "\t ttv 9 = 0.042509741450912526 +/- 0.002240163623966218\n",
      "Fitting ttv for transit number 10\n",
      "\t ttv 10 = 0.04539323552943629\n"
     ]
    },
    {
     "name": "stderr",
     "output_type": "stream",
     "text": [
      "Sequential sampling (2 chains in 1 job)\n",
      "NUTS: [ttv]\n",
      "Sampling chain 0, 0 divergences: 100%|██████████| 1000/1000 [00:01<00:00, 690.64it/s]\n",
      "Sampling chain 1, 0 divergences: 100%|██████████| 1000/1000 [00:01<00:00, 946.94it/s]\n"
     ]
    },
    {
     "name": "stdout",
     "output_type": "stream",
     "text": [
      "\t ttv 10 = 0.04550998667653645 +/- 0.00252469334249978\n",
      "Fitting ttv for transit number 11\n",
      "\t ttv 11 = 0.050037200396108567\n"
     ]
    },
    {
     "name": "stderr",
     "output_type": "stream",
     "text": [
      "Sequential sampling (2 chains in 1 job)\n",
      "NUTS: [ttv]\n",
      "Sampling chain 0, 0 divergences: 100%|██████████| 1000/1000 [00:01<00:00, 841.15it/s]\n",
      "Sampling chain 1, 0 divergences: 100%|██████████| 1000/1000 [00:01<00:00, 992.31it/s]\n",
      "The estimated number of effective samples is smaller than 200 for some parameters.\n"
     ]
    },
    {
     "name": "stdout",
     "output_type": "stream",
     "text": [
      "\t ttv 11 = 0.0496552673209423 +/- 0.002494055652919725\n",
      "Fitting ttv for transit number 12\n",
      "\t ttv 12 = 0.052944374240677834\n"
     ]
    },
    {
     "name": "stderr",
     "output_type": "stream",
     "text": [
      "Sequential sampling (2 chains in 1 job)\n",
      "NUTS: [ttv]\n",
      "Sampling chain 0, 0 divergences: 100%|██████████| 1000/1000 [00:01<00:00, 894.98it/s]\n",
      "Sampling chain 1, 0 divergences: 100%|██████████| 1000/1000 [00:00<00:00, 1018.85it/s]\n"
     ]
    },
    {
     "name": "stdout",
     "output_type": "stream",
     "text": [
      "\t ttv 12 = 0.05258372932811993 +/- 0.0017046446719347417\n",
      "Fitting ttv for transit number 13\n",
      "\t ttv 13 = 0.05609724190672625\n"
     ]
    },
    {
     "name": "stderr",
     "output_type": "stream",
     "text": [
      "Sequential sampling (2 chains in 1 job)\n",
      "NUTS: [ttv]\n",
      "Sampling chain 0, 0 divergences: 100%|██████████| 1000/1000 [00:01<00:00, 894.65it/s]\n",
      "Sampling chain 1, 0 divergences: 100%|██████████| 1000/1000 [00:00<00:00, 1000.26it/s]\n"
     ]
    },
    {
     "name": "stdout",
     "output_type": "stream",
     "text": [
      "\t ttv 13 = 0.05665723936153363 +/- 0.0020957991577640494\n",
      "Fitting ttv for transit number 14\n",
      "\t ttv 14 = 0.0544360537406074\n"
     ]
    },
    {
     "name": "stderr",
     "output_type": "stream",
     "text": [
      "Sequential sampling (2 chains in 1 job)\n",
      "NUTS: [ttv]\n",
      "Sampling chain 0, 0 divergences: 100%|██████████| 1000/1000 [00:01<00:00, 787.78it/s]\n",
      "Sampling chain 1, 0 divergences: 100%|██████████| 1000/1000 [00:00<00:00, 1073.83it/s]\n"
     ]
    },
    {
     "name": "stdout",
     "output_type": "stream",
     "text": [
      "\t ttv 14 = 0.05450219739356822 +/- 0.0016629522418312604\n",
      "Fitting ttv for transit number 15\n",
      "\t ttv 15 = 0.05605136917190027\n"
     ]
    },
    {
     "name": "stderr",
     "output_type": "stream",
     "text": [
      "Sequential sampling (2 chains in 1 job)\n",
      "NUTS: [ttv]\n",
      "Sampling chain 0, 0 divergences: 100%|██████████| 1000/1000 [00:01<00:00, 780.57it/s]\n",
      "Sampling chain 1, 0 divergences: 100%|██████████| 1000/1000 [00:00<00:00, 1059.19it/s]\n"
     ]
    },
    {
     "name": "stdout",
     "output_type": "stream",
     "text": [
      "\t ttv 15 = 0.056174390899225005 +/- 0.0018100799348029243\n",
      "Fitting ttv for transit number 16\n",
      "\t ttv 16 = 0.05052688534576262\n"
     ]
    },
    {
     "name": "stderr",
     "output_type": "stream",
     "text": [
      "Sequential sampling (2 chains in 1 job)\n",
      "NUTS: [ttv]\n",
      "Sampling chain 0, 0 divergences: 100%|██████████| 1000/1000 [00:01<00:00, 831.54it/s]\n",
      "Sampling chain 1, 0 divergences: 100%|██████████| 1000/1000 [00:01<00:00, 952.40it/s]\n"
     ]
    },
    {
     "name": "stdout",
     "output_type": "stream",
     "text": [
      "\t ttv 16 = 0.05027134109232734 +/- 0.001640418316675394\n",
      "Fitting ttv for transit number 17\n",
      "\t ttv 17 = 0.04739567104299037\n"
     ]
    },
    {
     "name": "stderr",
     "output_type": "stream",
     "text": [
      "Sequential sampling (2 chains in 1 job)\n",
      "NUTS: [ttv]\n",
      "Sampling chain 0, 0 divergences: 100%|██████████| 1000/1000 [00:01<00:00, 721.03it/s]\n",
      "Sampling chain 1, 0 divergences: 100%|██████████| 1000/1000 [00:01<00:00, 948.96it/s]\n",
      "The estimated number of effective samples is smaller than 200 for some parameters.\n"
     ]
    },
    {
     "name": "stdout",
     "output_type": "stream",
     "text": [
      "\t ttv 17 = 0.047201649381204136 +/- 0.002269143704826502\n",
      "Fitting ttv for transit number 18\n",
      "\t ttv 18 = 0.03929976567148665\n"
     ]
    },
    {
     "name": "stderr",
     "output_type": "stream",
     "text": [
      "Sequential sampling (2 chains in 1 job)\n",
      "NUTS: [ttv]\n",
      "Sampling chain 0, 0 divergences: 100%|██████████| 1000/1000 [00:01<00:00, 808.09it/s]\n",
      "Sampling chain 1, 0 divergences: 100%|██████████| 1000/1000 [00:01<00:00, 963.95it/s]\n"
     ]
    },
    {
     "name": "stdout",
     "output_type": "stream",
     "text": [
      "\t ttv 18 = 0.04011142041048519 +/- 0.0026617971400600612\n",
      "Fitting ttv for transit number 19\n",
      "\t ttv 19 = 0.03520860164464228\n"
     ]
    },
    {
     "name": "stderr",
     "output_type": "stream",
     "text": [
      "Sequential sampling (2 chains in 1 job)\n",
      "NUTS: [ttv]\n",
      "Sampling chain 0, 0 divergences: 100%|██████████| 1000/1000 [00:01<00:00, 792.38it/s]\n",
      "Sampling chain 1, 0 divergences: 100%|██████████| 1000/1000 [00:01<00:00, 994.90it/s]\n"
     ]
    },
    {
     "name": "stdout",
     "output_type": "stream",
     "text": [
      "\t ttv 19 = 0.03501591326150044 +/- 0.0020418359283357057\n",
      "Fitting ttv for transit number 20\n",
      "\t ttv 20 = 0.024352839385967013\n"
     ]
    },
    {
     "name": "stderr",
     "output_type": "stream",
     "text": [
      "Sequential sampling (2 chains in 1 job)\n",
      "NUTS: [ttv]\n",
      "Sampling chain 0, 0 divergences: 100%|██████████| 1000/1000 [00:01<00:00, 841.82it/s]\n",
      "Sampling chain 1, 0 divergences: 100%|██████████| 1000/1000 [00:00<00:00, 1042.76it/s]\n",
      "The estimated number of effective samples is smaller than 200 for some parameters.\n"
     ]
    },
    {
     "name": "stdout",
     "output_type": "stream",
     "text": [
      "\t ttv 20 = 0.02404662221712184 +/- 0.0020672236340681213\n",
      "Fitting ttv for transit number 21\n",
      "\t ttv 21 = 0.019270489426721066\n"
     ]
    },
    {
     "name": "stderr",
     "output_type": "stream",
     "text": [
      "Sequential sampling (2 chains in 1 job)\n",
      "NUTS: [ttv]\n",
      "Sampling chain 0, 0 divergences: 100%|██████████| 1000/1000 [00:01<00:00, 724.79it/s]\n",
      "Sampling chain 1, 0 divergences: 100%|██████████| 1000/1000 [00:01<00:00, 883.39it/s]\n"
     ]
    },
    {
     "name": "stdout",
     "output_type": "stream",
     "text": [
      "\t ttv 21 = 0.019710487154224514 +/- 0.0021215707876973493\n",
      "Fitting ttv for transit number 22\n",
      "\t ttv 22 = 0.01125681517178845\n"
     ]
    },
    {
     "name": "stderr",
     "output_type": "stream",
     "text": [
      "Sequential sampling (2 chains in 1 job)\n",
      "NUTS: [ttv]\n",
      "Sampling chain 0, 0 divergences: 100%|██████████| 1000/1000 [00:01<00:00, 723.78it/s]\n",
      "Sampling chain 1, 0 divergences: 100%|██████████| 1000/1000 [00:00<00:00, 1059.10it/s]\n"
     ]
    },
    {
     "name": "stdout",
     "output_type": "stream",
     "text": [
      "\t ttv 22 = 0.011779516599697146 +/- 0.002183268712032616\n",
      "Fitting ttv for transit number 23\n",
      "\t ttv 23 = 0.002555503896429495\n"
     ]
    },
    {
     "name": "stderr",
     "output_type": "stream",
     "text": [
      "Sequential sampling (2 chains in 1 job)\n",
      "NUTS: [ttv]\n",
      "Sampling chain 0, 0 divergences: 100%|██████████| 1000/1000 [00:01<00:00, 910.37it/s]\n",
      "Sampling chain 1, 0 divergences: 100%|██████████| 1000/1000 [00:00<00:00, 1032.26it/s]\n"
     ]
    },
    {
     "name": "stdout",
     "output_type": "stream",
     "text": [
      "\t ttv 23 = 0.0015798165907111514 +/- 0.002585211976491424\n",
      "Fitting ttv for transit number 24\n",
      "\t ttv 24 = -0.014330911177717221\n"
     ]
    },
    {
     "name": "stderr",
     "output_type": "stream",
     "text": [
      "Sequential sampling (2 chains in 1 job)\n",
      "NUTS: [ttv]\n",
      "Sampling chain 0, 0 divergences: 100%|██████████| 1000/1000 [00:01<00:00, 826.50it/s]\n",
      "Sampling chain 1, 0 divergences: 100%|██████████| 1000/1000 [00:00<00:00, 1076.69it/s]\n"
     ]
    },
    {
     "name": "stdout",
     "output_type": "stream",
     "text": [
      "\t ttv 24 = -0.014444934043954274 +/- 0.00149646872927305\n",
      "Fitting ttv for transit number 25\n",
      "\t ttv 25 = -0.023141287118270584\n"
     ]
    },
    {
     "name": "stderr",
     "output_type": "stream",
     "text": [
      "Sequential sampling (2 chains in 1 job)\n",
      "NUTS: [ttv]\n",
      "Sampling chain 0, 0 divergences: 100%|██████████| 1000/1000 [00:01<00:00, 820.84it/s]\n",
      "Sampling chain 1, 0 divergences: 100%|██████████| 1000/1000 [00:01<00:00, 960.18it/s]\n"
     ]
    },
    {
     "name": "stdout",
     "output_type": "stream",
     "text": [
      "\t ttv 25 = -0.02262677222842523 +/- 0.0025082633121517512\n",
      "Fitting ttv for transit number 26\n",
      "\t ttv 26 = -0.036006373352145925\n"
     ]
    },
    {
     "name": "stderr",
     "output_type": "stream",
     "text": [
      "Sequential sampling (2 chains in 1 job)\n",
      "NUTS: [ttv]\n",
      "Sampling chain 0, 0 divergences: 100%|██████████| 1000/1000 [00:01<00:00, 843.61it/s]\n",
      "Sampling chain 1, 0 divergences: 100%|██████████| 1000/1000 [00:00<00:00, 1016.33it/s]\n"
     ]
    },
    {
     "name": "stdout",
     "output_type": "stream",
     "text": [
      "\t ttv 26 = -0.03620635874761655 +/- 0.0016822770355984099\n",
      "Fitting ttv for transit number 27\n",
      "\t ttv 27 = 0.027985742332482213\n"
     ]
    },
    {
     "name": "stderr",
     "output_type": "stream",
     "text": [
      "Sequential sampling (2 chains in 1 job)\n",
      "NUTS: [ttv]\n",
      "Sampling chain 0, 0 divergences: 100%|██████████| 1000/1000 [00:01<00:00, 703.33it/s]\n",
      "Sampling chain 1, 0 divergences: 100%|██████████| 1000/1000 [00:01<00:00, 882.48it/s]\n"
     ]
    },
    {
     "name": "stdout",
     "output_type": "stream",
     "text": [
      "\t ttv 27 = 0.028008850734662527 +/- 0.0013745246778952558\n",
      "Fitting ttv for transit number 28\n",
      "\t ttv 28 = -0.05940825214782555\n"
     ]
    },
    {
     "name": "stderr",
     "output_type": "stream",
     "text": [
      "Sequential sampling (2 chains in 1 job)\n",
      "NUTS: [ttv]\n",
      "Sampling chain 0, 0 divergences: 100%|██████████| 1000/1000 [00:01<00:00, 844.43it/s]\n",
      "Sampling chain 1, 0 divergences: 100%|██████████| 1000/1000 [00:00<00:00, 1064.22it/s]\n"
     ]
    },
    {
     "name": "stdout",
     "output_type": "stream",
     "text": [
      "\t ttv 28 = -0.059821245797485254 +/- 0.0019979639438208775\n",
      "Fitting ttv for transit number 29\n",
      "\t ttv 29 = 0.025196331929750067\n"
     ]
    },
    {
     "name": "stderr",
     "output_type": "stream",
     "text": [
      "Sequential sampling (2 chains in 1 job)\n",
      "NUTS: [ttv]\n",
      "Sampling chain 0, 0 divergences: 100%|██████████| 1000/1000 [00:01<00:00, 941.96it/s]\n",
      "Sampling chain 1, 0 divergences: 100%|██████████| 1000/1000 [00:00<00:00, 1098.77it/s]\n"
     ]
    },
    {
     "name": "stdout",
     "output_type": "stream",
     "text": [
      "\t ttv 29 = 0.006907263550881069 +/- 0.0013122179074597897\n",
      "Calculated parameters: t0 = 3419.306275910638, Calculated period = 2.675813211793762\n",
      "Using calculated parameters.\n",
      "Optimising the shape of the orbital model:\n"
     ]
    },
    {
     "name": "stderr",
     "output_type": "stream",
     "text": [
      "optimizing logp for variables: [b, r, u, t0, mean]\n"
     ]
    },
    {
     "data": {
      "application/vnd.jupyter.widget-view+json": {
       "model_id": "696390b888e04c9d8a59c01fb21f3679",
       "version_major": 2,
       "version_minor": 0
      },
      "text/plain": [
       "HBox(children=(FloatProgress(value=1.0, bar_style='info', layout=Layout(width='20px'), max=1.0), HTML(value=''…"
      ]
     },
     "metadata": {},
     "output_type": "display_data"
    },
    {
     "name": "stdout",
     "output_type": "stream",
     "text": [
      "\n",
      "\t mean = 0.9999821319876137\n",
      "\t t0 = 0.01298246178770855\n",
      "\t u = [ 0.0633771  -0.00734225]\n",
      "\t r = 0.0445444061137237\n",
      "\t b = 0.8032830920140606\n",
      "Fitting ttv for transit number 0\n"
     ]
    },
    {
     "name": "stderr",
     "output_type": "stream",
     "text": [
      "message: Desired error not necessarily achieved due to precision loss.\n",
      "logp: 14105.601288738815 -> 14524.961682039435\n"
     ]
    },
    {
     "name": "stdout",
     "output_type": "stream",
     "text": [
      "\t ttv 0 = 0.010830917168387931\n",
      "Fitting ttv for transit number 1\n",
      "\t ttv 1 = 0.052480374441204514\n",
      "Fitting ttv for transit number 2\n",
      "\t ttv 2 = 0.05324541040885917\n",
      "Fitting ttv for transit number 3\n",
      "\t ttv 3 = 0.032367000861040995\n",
      "Fitting ttv for transit number 4\n",
      "\t ttv 4 = 0.034431477259131656\n",
      "Fitting ttv for transit number 5\n",
      "\t ttv 5 = 0.025853333377426162\n",
      "Fitting ttv for transit number 6\n",
      "\t ttv 6 = 0.019752437476000754\n",
      "Fitting ttv for transit number 7\n",
      "\t ttv 7 = 0.014996790341476463\n",
      "Fitting ttv for transit number 8\n",
      "\t ttv 8 = 0.014228683452096205\n",
      "Fitting ttv for transit number 9\n",
      "\t ttv 9 = 0.012849045749072616\n",
      "Fitting ttv for transit number 10\n",
      "\t ttv 10 = 0.009343089316669844\n",
      "Fitting ttv for transit number 11\n",
      "\t ttv 11 = 0.005523877375811981\n",
      "Fitting ttv for transit number 12\n",
      "\t ttv 12 = 0.004234797137825696\n",
      "Fitting ttv for transit number 13\n",
      "\t ttv 13 = -0.006874825150081593\n",
      "Fitting ttv for transit number 14\n",
      "\t ttv 14 = -0.006851857265343654\n",
      "Fitting ttv for transit number 15\n",
      "\t ttv 15 = -0.007421323385567517\n",
      "Fitting ttv for transit number 16\n",
      "\t ttv 16 = -0.0053435311832213\n",
      "Fitting ttv for transit number 17\n",
      "\t ttv 17 = -0.02636667373460787\n",
      "Fitting ttv for transit number 18\n",
      "\t ttv 18 = -0.02436817370074552\n",
      "Optimising the shape of the orbital model:\n"
     ]
    },
    {
     "name": "stderr",
     "output_type": "stream",
     "text": [
      "optimizing logp for variables: [b, r, u, t0, mean]\n"
     ]
    },
    {
     "data": {
      "application/vnd.jupyter.widget-view+json": {
       "model_id": "aad85526643a4f1ba5a155e9b0e0ab10",
       "version_major": 2,
       "version_minor": 0
      },
      "text/plain": [
       "HBox(children=(FloatProgress(value=1.0, bar_style='info', layout=Layout(width='20px'), max=1.0), HTML(value=''…"
      ]
     },
     "metadata": {},
     "output_type": "display_data"
    },
    {
     "name": "stdout",
     "output_type": "stream",
     "text": [
      "\n",
      "\t mean = 1.0000007603344352\n",
      "\t t0 = -0.00014048717604372535\n",
      "\t u = [ 1.10555427 -0.30937312]\n",
      "\t r = 0.06046218485200683\n",
      "\t b = 0.7980398924739781\n",
      "Fitting ttv for transit number 0\n"
     ]
    },
    {
     "name": "stderr",
     "output_type": "stream",
     "text": [
      "message: Desired error not necessarily achieved due to precision loss.\n",
      "logp: 14641.919632772517 -> 14998.375477863874\n"
     ]
    },
    {
     "name": "stdout",
     "output_type": "stream",
     "text": [
      "\t ttv 0 = 0.008443814049649225\n",
      "Fitting ttv for transit number 1\n",
      "\t ttv 1 = 0.06281422929426073\n",
      "Fitting ttv for transit number 2\n",
      "\t ttv 2 = 0.052470344838500556\n",
      "Fitting ttv for transit number 3\n",
      "\t ttv 3 = 0.04503686327131166\n",
      "Fitting ttv for transit number 4\n",
      "\t ttv 4 = 0.035448396364810716\n",
      "Fitting ttv for transit number 5\n",
      "\t ttv 5 = 0.030238248795295915\n",
      "Fitting ttv for transit number 6\n",
      "\t ttv 6 = 0.0251480334430263\n",
      "Fitting ttv for transit number 7\n",
      "\t ttv 7 = 0.01629538393072\n",
      "Fitting ttv for transit number 8\n",
      "\t ttv 8 = 0.01305176344716436\n",
      "Fitting ttv for transit number 9\n",
      "\t ttv 9 = 0.012870656023072084\n",
      "Fitting ttv for transit number 10\n",
      "\t ttv 10 = 0.010894815696208381\n",
      "Fitting ttv for transit number 11\n",
      "\t ttv 11 = -0.00281288719235911\n",
      "Fitting ttv for transit number 12\n",
      "\t ttv 12 = -0.0034872145430873747\n",
      "Fitting ttv for transit number 13\n",
      "\t ttv 13 = -0.006766225769179693\n",
      "Fitting ttv for transit number 14\n",
      "\t ttv 14 = -0.01617530095885163\n",
      "Fitting ttv for transit number 15\n",
      "\t ttv 15 = -0.02011159201056617\n",
      "Fitting ttv for transit number 16\n",
      "\t ttv 16 = -0.022338400122534813\n",
      "Fitting ttv for transit number 17\n",
      "\t ttv 17 = -0.02685057107152013\n",
      "Fitting ttv for transit number 18\n",
      "\t ttv 18 = -0.03567450004481089\n",
      "Optimising the shape of the orbital model:\n"
     ]
    },
    {
     "name": "stderr",
     "output_type": "stream",
     "text": [
      "optimizing logp for variables: [b, r, u, t0, mean]\n"
     ]
    },
    {
     "data": {
      "application/vnd.jupyter.widget-view+json": {
       "model_id": "7a486a19dde04b8abe117db5a906ed3a",
       "version_major": 2,
       "version_minor": 0
      },
      "text/plain": [
       "HBox(children=(FloatProgress(value=1.0, bar_style='info', layout=Layout(width='20px'), max=1.0), HTML(value=''…"
      ]
     },
     "metadata": {},
     "output_type": "display_data"
    },
    {
     "name": "stdout",
     "output_type": "stream",
     "text": [
      "\n",
      "\t mean = 1.0000007300349651\n",
      "\t t0 = -6.863322662079638e-05\n",
      "\t u = [ 1.18892254 -0.33773195]\n",
      "\t r = 0.06611741211675742\n",
      "\t b = 0.8256268796372234\n"
     ]
    },
    {
     "name": "stderr",
     "output_type": "stream",
     "text": [
      "message: Optimization terminated successfully.\n",
      "logp: 14665.131346392662 -> 15070.977671011698\n",
      "Sequential sampling (2 chains in 1 job)\n",
      "NUTS: [b, r, u, t0, mean]\n",
      "Sampling chain 0, 0 divergences: 100%|██████████| 6000/6000 [00:47<00:00, 125.63it/s]\n",
      "Sampling chain 1, 0 divergences: 100%|██████████| 6000/6000 [00:38<00:00, 154.39it/s]\n"
     ]
    },
    {
     "name": "stdout",
     "output_type": "stream",
     "text": [
      "\t mean = 1.000000608830119 +/- 9.804288232391403e-06\n",
      "\t t0 = -5.797030309164332e-05 +/- 0.00040837659382005715\n",
      "\t u = [ 1.18781806 -0.3396711 ] +/- [0.42282842 0.41672571]\n",
      "\t r = 0.06583247090891264 +/- 0.0028164598126018386\n",
      "\t b = 0.8243070910511213 +/- 0.014124731309302205\n",
      "Fitting ttv for transit number 0\n",
      "\t ttv 0 = 0.008504802882294007\n"
     ]
    },
    {
     "name": "stderr",
     "output_type": "stream",
     "text": [
      "Sequential sampling (2 chains in 1 job)\n",
      "NUTS: [ttv]\n",
      "Sampling chain 0, 0 divergences: 100%|██████████| 1000/1000 [00:01<00:00, 935.72it/s]\n",
      "Sampling chain 1, 0 divergences: 100%|██████████| 1000/1000 [00:01<00:00, 895.89it/s]\n"
     ]
    },
    {
     "name": "stdout",
     "output_type": "stream",
     "text": [
      "\t ttv 0 = 0.06932276843760196 +/- 0.00165590897684014\n",
      "Fitting ttv for transit number 1\n",
      "\t ttv 1 = 0.062123735075102125\n"
     ]
    },
    {
     "name": "stderr",
     "output_type": "stream",
     "text": [
      "Sequential sampling (2 chains in 1 job)\n",
      "NUTS: [ttv]\n",
      "Sampling chain 0, 0 divergences: 100%|██████████| 1000/1000 [00:01<00:00, 793.78it/s]\n",
      "Sampling chain 1, 0 divergences: 100%|██████████| 1000/1000 [00:00<00:00, 1002.07it/s]\n"
     ]
    },
    {
     "name": "stdout",
     "output_type": "stream",
     "text": [
      "\t ttv 1 = 0.062059029075915775 +/- 0.002285760703582816\n",
      "Fitting ttv for transit number 2\n",
      "\t ttv 2 = 0.05249789317697763\n"
     ]
    },
    {
     "name": "stderr",
     "output_type": "stream",
     "text": [
      "Sequential sampling (2 chains in 1 job)\n",
      "NUTS: [ttv]\n",
      "Sampling chain 0, 0 divergences: 100%|██████████| 1000/1000 [00:01<00:00, 885.40it/s]\n",
      "Sampling chain 1, 0 divergences: 100%|██████████| 1000/1000 [00:01<00:00, 924.96it/s]\n"
     ]
    },
    {
     "name": "stdout",
     "output_type": "stream",
     "text": [
      "\t ttv 2 = 0.05263290710675777 +/- 0.0019193694157138637\n",
      "Fitting ttv for transit number 3\n",
      "\t ttv 3 = 0.043492199361087766\n"
     ]
    },
    {
     "name": "stderr",
     "output_type": "stream",
     "text": [
      "Sequential sampling (2 chains in 1 job)\n",
      "NUTS: [ttv]\n",
      "Sampling chain 0, 0 divergences: 100%|██████████| 1000/1000 [00:01<00:00, 754.93it/s]\n",
      "Sampling chain 1, 0 divergences: 100%|██████████| 1000/1000 [00:00<00:00, 1033.84it/s]\n"
     ]
    },
    {
     "name": "stdout",
     "output_type": "stream",
     "text": [
      "\t ttv 3 = 0.0433819717902969 +/- 0.002106317788301733\n",
      "Fitting ttv for transit number 4\n",
      "\t ttv 4 = 0.03469810844565955\n"
     ]
    },
    {
     "name": "stderr",
     "output_type": "stream",
     "text": [
      "Sequential sampling (2 chains in 1 job)\n",
      "NUTS: [ttv]\n",
      "Sampling chain 0, 0 divergences: 100%|██████████| 1000/1000 [00:01<00:00, 740.36it/s]\n",
      "Sampling chain 1, 0 divergences: 100%|██████████| 1000/1000 [00:01<00:00, 995.74it/s]\n"
     ]
    },
    {
     "name": "stdout",
     "output_type": "stream",
     "text": [
      "\t ttv 4 = 0.035166350315856174 +/- 0.00232840407896144\n",
      "Fitting ttv for transit number 5\n",
      "\t ttv 5 = 0.03026158960012416\n"
     ]
    },
    {
     "name": "stderr",
     "output_type": "stream",
     "text": [
      "Sequential sampling (2 chains in 1 job)\n",
      "NUTS: [ttv]\n",
      "Sampling chain 0, 0 divergences: 100%|██████████| 1000/1000 [00:01<00:00, 617.67it/s]\n",
      "Sampling chain 1, 0 divergences: 100%|██████████| 1000/1000 [00:00<00:00, 1013.46it/s]\n"
     ]
    },
    {
     "name": "stdout",
     "output_type": "stream",
     "text": [
      "\t ttv 5 = 0.030322911361901767 +/- 0.0015907780909177566\n",
      "Fitting ttv for transit number 6\n",
      "\t ttv 6 = 0.02463584541772159\n"
     ]
    },
    {
     "name": "stderr",
     "output_type": "stream",
     "text": [
      "Sequential sampling (2 chains in 1 job)\n",
      "NUTS: [ttv]\n",
      "Sampling chain 0, 0 divergences: 100%|██████████| 1000/1000 [00:01<00:00, 621.92it/s]\n",
      "Sampling chain 1, 0 divergences: 100%|██████████| 1000/1000 [00:01<00:00, 853.55it/s]\n"
     ]
    },
    {
     "name": "stdout",
     "output_type": "stream",
     "text": [
      "\t ttv 6 = 0.02417366509315242 +/- 0.002343735486399704\n",
      "Fitting ttv for transit number 7\n",
      "\t ttv 7 = 0.018340898652333387\n"
     ]
    },
    {
     "name": "stderr",
     "output_type": "stream",
     "text": [
      "Sequential sampling (2 chains in 1 job)\n",
      "NUTS: [ttv]\n",
      "Sampling chain 0, 0 divergences: 100%|██████████| 1000/1000 [00:01<00:00, 794.50it/s]\n",
      "Sampling chain 1, 0 divergences: 100%|██████████| 1000/1000 [00:01<00:00, 895.02it/s]\n"
     ]
    },
    {
     "name": "stdout",
     "output_type": "stream",
     "text": [
      "\t ttv 7 = 0.018997948072016962 +/- 0.0025212028065691554\n",
      "Fitting ttv for transit number 8\n",
      "\t ttv 8 = 0.012265434830344191\n"
     ]
    },
    {
     "name": "stderr",
     "output_type": "stream",
     "text": [
      "Sequential sampling (2 chains in 1 job)\n",
      "NUTS: [ttv]\n",
      "Sampling chain 0, 0 divergences: 100%|██████████| 1000/1000 [00:01<00:00, 903.10it/s]\n",
      "Sampling chain 1, 0 divergences: 100%|██████████| 1000/1000 [00:01<00:00, 988.51it/s]\n"
     ]
    },
    {
     "name": "stdout",
     "output_type": "stream",
     "text": [
      "\t ttv 8 = -0.00946168146360624 +/- 0.0012146953280851031\n",
      "Fitting ttv for transit number 9\n",
      "\t ttv 9 = 0.012844595409564792\n"
     ]
    },
    {
     "name": "stderr",
     "output_type": "stream",
     "text": [
      "Sequential sampling (2 chains in 1 job)\n",
      "NUTS: [ttv]\n",
      "Sampling chain 0, 0 divergences: 100%|██████████| 1000/1000 [00:01<00:00, 634.72it/s]\n",
      "Sampling chain 1, 0 divergences: 100%|██████████| 1000/1000 [00:01<00:00, 781.00it/s]\n"
     ]
    },
    {
     "name": "stdout",
     "output_type": "stream",
     "text": [
      "\t ttv 9 = 0.0129221979925793 +/- 0.0016794498972632478\n",
      "Fitting ttv for transit number 10\n",
      "\t ttv 10 = 0.010676585726235113\n"
     ]
    },
    {
     "name": "stderr",
     "output_type": "stream",
     "text": [
      "Sequential sampling (2 chains in 1 job)\n",
      "NUTS: [ttv]\n",
      "Sampling chain 0, 0 divergences: 100%|██████████| 1000/1000 [00:01<00:00, 768.92it/s]\n",
      "Sampling chain 1, 0 divergences: 100%|██████████| 1000/1000 [00:00<00:00, 1061.17it/s]\n"
     ]
    },
    {
     "name": "stdout",
     "output_type": "stream",
     "text": [
      "\t ttv 10 = 0.010580752411124071 +/- 0.001965106464574538\n",
      "Fitting ttv for transit number 11\n",
      "\t ttv 11 = -0.00038112994060466535\n"
     ]
    },
    {
     "name": "stderr",
     "output_type": "stream",
     "text": [
      "Sequential sampling (2 chains in 1 job)\n",
      "NUTS: [ttv]\n",
      "Sampling chain 0, 0 divergences: 100%|██████████| 1000/1000 [00:01<00:00, 829.74it/s]\n",
      "Sampling chain 1, 0 divergences: 100%|██████████| 1000/1000 [00:00<00:00, 1006.67it/s]\n"
     ]
    },
    {
     "name": "stdout",
     "output_type": "stream",
     "text": [
      "\t ttv 11 = -0.00026115211928598957 +/- 0.0024999874139222792\n",
      "Fitting ttv for transit number 12\n",
      "\t ttv 12 = -0.002955847479949723\n"
     ]
    },
    {
     "name": "stderr",
     "output_type": "stream",
     "text": [
      "Sequential sampling (2 chains in 1 job)\n",
      "NUTS: [ttv]\n",
      "Sampling chain 0, 0 divergences: 100%|██████████| 1000/1000 [00:01<00:00, 833.46it/s]\n",
      "Sampling chain 1, 0 divergences: 100%|██████████| 1000/1000 [00:00<00:00, 1033.69it/s]\n"
     ]
    },
    {
     "name": "stdout",
     "output_type": "stream",
     "text": [
      "\t ttv 12 = -0.002781531742723084 +/- 0.0019693935694194585\n",
      "Fitting ttv for transit number 13\n",
      "\t ttv 13 = -0.007055680146836623\n"
     ]
    },
    {
     "name": "stderr",
     "output_type": "stream",
     "text": [
      "Sequential sampling (2 chains in 1 job)\n",
      "NUTS: [ttv]\n",
      "Sampling chain 0, 0 divergences: 100%|██████████| 1000/1000 [00:01<00:00, 865.34it/s]\n",
      "Sampling chain 1, 0 divergences: 100%|██████████| 1000/1000 [00:00<00:00, 1021.02it/s]\n"
     ]
    },
    {
     "name": "stdout",
     "output_type": "stream",
     "text": [
      "\t ttv 13 = -0.007353905522209006 +/- 0.0017444486235021705\n",
      "Fitting ttv for transit number 14\n",
      "\t ttv 14 = -0.016124183225201892\n"
     ]
    },
    {
     "name": "stderr",
     "output_type": "stream",
     "text": [
      "Sequential sampling (2 chains in 1 job)\n",
      "NUTS: [ttv]\n",
      "Sampling chain 0, 0 divergences: 100%|██████████| 1000/1000 [00:01<00:00, 863.16it/s]\n",
      "Sampling chain 1, 0 divergences: 100%|██████████| 1000/1000 [00:00<00:00, 1009.29it/s]\n"
     ]
    },
    {
     "name": "stdout",
     "output_type": "stream",
     "text": [
      "\t ttv 14 = -0.015691935985778532 +/- 0.002906263935277626\n",
      "Fitting ttv for transit number 15\n",
      "\t ttv 15 = -0.020112593798179264\n"
     ]
    },
    {
     "name": "stderr",
     "output_type": "stream",
     "text": [
      "Sequential sampling (2 chains in 1 job)\n",
      "NUTS: [ttv]\n",
      "Sampling chain 0, 0 divergences: 100%|██████████| 1000/1000 [00:01<00:00, 547.79it/s]\n",
      "Sampling chain 1, 0 divergences: 100%|██████████| 1000/1000 [00:00<00:00, 1022.21it/s]\n"
     ]
    },
    {
     "name": "stdout",
     "output_type": "stream",
     "text": [
      "\t ttv 15 = -0.020052914627133066 +/- 0.0018691645942354748\n",
      "Fitting ttv for transit number 16\n",
      "\t ttv 16 = -0.022310600739958233\n"
     ]
    },
    {
     "name": "stderr",
     "output_type": "stream",
     "text": [
      "Sequential sampling (2 chains in 1 job)\n",
      "NUTS: [ttv]\n",
      "Sampling chain 0, 0 divergences: 100%|██████████| 1000/1000 [00:01<00:00, 904.71it/s]\n",
      "Sampling chain 1, 0 divergences: 100%|██████████| 1000/1000 [00:00<00:00, 1079.24it/s]\n"
     ]
    },
    {
     "name": "stdout",
     "output_type": "stream",
     "text": [
      "\t ttv 16 = -0.02213025805473577 +/- 0.001558981652888449\n",
      "Fitting ttv for transit number 17\n",
      "\t ttv 17 = -0.02629624130547649\n"
     ]
    },
    {
     "name": "stderr",
     "output_type": "stream",
     "text": [
      "Sequential sampling (2 chains in 1 job)\n",
      "NUTS: [ttv]\n",
      "Sampling chain 0, 0 divergences: 100%|██████████| 1000/1000 [00:01<00:00, 829.80it/s]\n",
      "Sampling chain 1, 0 divergences: 100%|██████████| 1000/1000 [00:00<00:00, 1037.97it/s]\n"
     ]
    },
    {
     "name": "stdout",
     "output_type": "stream",
     "text": [
      "\t ttv 17 = -0.026616919731736702 +/- 0.002128394301168697\n",
      "Fitting ttv for transit number 18\n",
      "\t ttv 18 = -0.036674423631881406\n"
     ]
    },
    {
     "name": "stderr",
     "output_type": "stream",
     "text": [
      "Sequential sampling (2 chains in 1 job)\n",
      "NUTS: [ttv]\n",
      "Sampling chain 0, 0 divergences: 100%|██████████| 1000/1000 [00:01<00:00, 775.21it/s]\n",
      "Sampling chain 1, 0 divergences: 100%|██████████| 1000/1000 [00:00<00:00, 1008.73it/s]\n"
     ]
    },
    {
     "name": "stdout",
     "output_type": "stream",
     "text": [
      "\t ttv 18 = -0.03582185207022978 +/- 0.0024474162178222607\n"
     ]
    }
   ],
   "source": [
    "models = []\n",
    "for c in [5, 16, 18]:\n",
    "    model = read_data(211924657, c)\n",
    "    model.optimise()\n",
    "    models.append(model)"
   ]
  },
  {
   "cell_type": "code",
   "execution_count": 13,
   "metadata": {
    "scrolled": false
   },
   "outputs": [
    {
     "data": {
      "image/png": "[encoded data removed]",
      "text/plain": [
       "<Figure size 432x288 with 1 Axes>"
      ]
     },
     "metadata": {
      "needs_background": "light"
     },
     "output_type": "display_data"
    }
   ],
   "source": [
    "time, ttvs, err = TTVModel.TTVModel.stitch_ttvs(models)"
   ]
  },
  {
   "cell_type": "code",
   "execution_count": null,
   "metadata": {},
   "outputs": [],
   "source": []
  }
 ],
 "metadata": {
  "kernelspec": {
   "display_name": "Python 3",
   "language": "python",
   "name": "python3"
  },
  "language_info": {
   "codemirror_mode": {
    "name": "ipython",
    "version": 3
   },
   "file_extension": ".py",
   "mimetype": "text/x-python",
   "name": "python",
   "nbconvert_exporter": "python",
   "pygments_lexer": "ipython3",
   "version": "3.8.5"
  }
 },
 "nbformat": 4,
 "nbformat_minor": 4
}
