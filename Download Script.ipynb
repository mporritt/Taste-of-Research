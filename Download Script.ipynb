{
 "cells": [
  {
   "cell_type": "code",
   "execution_count": 71,
   "metadata": {},
   "outputs": [],
   "source": [
    "from astroquery.mast import Observations\n",
    "import numpy"
   ]
  },
  {
   "cell_type": "code",
   "execution_count": 55,
   "metadata": {
    "scrolled": false
   },
   "outputs": [],
   "source": [
    "def download_EPIC_data(EPIC):\n",
    "    download_dir = \"EPIC \" + str(EPIC)\n",
    "    \n",
    "    search_result = Observations.query_object(EPIC, radius=\".02 deg\")\n",
    "    where_k2_mission = numpy.where(search_result['provenance_name'] == 'EVEREST')[0]\n",
    "    \n",
    "    Observations.download_products(\n",
    "        search_result['obsid'][where_k2_mission],\n",
    "        download_dir=download_dir,\n",
    "        extension=\"fits\"\n",
    "    )\n",
    "    \n",
    "    \n",
    "def download_all():\n",
    "    with open(\"EPIC_list.txt\", 'r') as f:\n",
    "        epics = [line[:-1] for line in f.readlines()]\n",
    "\n",
    "    for epic in epics[:\n",
    "        download_EPIC_data(epic)\n",
    "        \n",
    "                      \n",
    "def get_EPIC_set():\n",
    "    epics = set()\n",
    "\n",
    "    with open(\"GO16011.txt\", \"r\") as f:\n",
    "        lines = f.readlines()\n",
    "        for line in lines[17:]:\n",
    "            epics.add(line.split(\", \")[0])\n",
    "\n",
    "    with open(\"GO18048.txt\", \"r\") as f:\n",
    "        lines = f.readlines()\n",
    "        for line in lines[11:]:\n",
    "            epics.add(line.split(\",\")[0])\n",
    "    \n",
    "    return epics\n",
    "            \n",
    "    \n",
    "def generate_EPICs_file():\n",
    "    epics = get_EPIC_set()\n",
    "    \n",
    "    with open(\"EPIC_list.txt\", 'w') as f:\n",
    "        for epic in epics:\n",
    "            f.write(epic + \"\\n\")"
   ]
  },
  {
   "cell_type": "code",
   "execution_count": 66,
   "metadata": {},
   "outputs": [
    {
     "ename": "NameError",
     "evalue": "name 'parameter_lookup' is not defined",
     "output_type": "error",
     "traceback": [
      "\u001b[1;31m---------------------------------------------------------------------------\u001b[0m",
      "\u001b[1;31mNameError\u001b[0m                                 Traceback (most recent call last)",
      "\u001b[1;32m<ipython-input-66-e3138c064940>\u001b[0m in \u001b[0;36m<module>\u001b[1;34m\u001b[0m\n\u001b[0;32m      6\u001b[0m \u001b[1;33m\u001b[0m\u001b[0m\n\u001b[0;32m      7\u001b[0m \u001b[1;32mfor\u001b[0m \u001b[0mepic\u001b[0m \u001b[1;32min\u001b[0m \u001b[0mepics\u001b[0m\u001b[1;33m:\u001b[0m\u001b[1;33m\u001b[0m\u001b[1;33m\u001b[0m\u001b[0m\n\u001b[1;32m----> 8\u001b[1;33m     \u001b[0mt0\u001b[0m\u001b[1;33m,\u001b[0m \u001b[0mp\u001b[0m \u001b[1;33m=\u001b[0m \u001b[0mparameter_lookup\u001b[0m\u001b[1;33m(\u001b[0m\u001b[0mepic\u001b[0m\u001b[1;33m)\u001b[0m\u001b[1;33m\u001b[0m\u001b[1;33m\u001b[0m\u001b[0m\n\u001b[0m\u001b[0;32m      9\u001b[0m     \u001b[0mn_tot\u001b[0m \u001b[1;33m+=\u001b[0m \u001b[1;36m1\u001b[0m\u001b[1;33m\u001b[0m\u001b[1;33m\u001b[0m\u001b[0m\n\u001b[0;32m     10\u001b[0m     \u001b[1;32mif\u001b[0m \u001b[0mt0\u001b[0m \u001b[1;32mis\u001b[0m \u001b[1;32mnot\u001b[0m \u001b[1;32mNone\u001b[0m\u001b[1;33m:\u001b[0m \u001b[0mn_inc\u001b[0m \u001b[1;33m+=\u001b[0m \u001b[1;36m1\u001b[0m\u001b[1;33m\u001b[0m\u001b[1;33m\u001b[0m\u001b[0m\n",
      "\u001b[1;31mNameError\u001b[0m: name 'parameter_lookup' is not defined"
     ]
    }
   ],
   "source": [
    "with open(\"Data/EPIC_list.txt\", 'r') as f:\n",
    "    epics = [line[:-1] for line in f.readlines()]\n",
    "    \n",
    "n_inc = 0\n",
    "n_tot = 0\n",
    "\n",
    "for epic in epics:\n",
    "    t0, p = parameter_lookup(epic)\n",
    "    n_tot += 1\n",
    "    if t0 is not None and p is not None: n_inc += 1\n",
    "        \n",
    "print(f\"A total of {n_inc} out of {n_tot} of my systems have data.\")"
   ]
  },
  {
   "cell_type": "code",
   "execution_count": null,
   "metadata": {},
   "outputs": [],
   "source": []
  }
 ],
 "metadata": {
  "kernelspec": {
   "display_name": "Python 3",
   "language": "python",
   "name": "python3"
  },
  "language_info": {
   "codemirror_mode": {
    "name": "ipython",
    "version": 3
   },
   "file_extension": ".py",
   "mimetype": "text/x-python",
   "name": "python",
   "nbconvert_exporter": "python",
   "pygments_lexer": "ipython3",
   "version": "3.8.5"
  }
 },
 "nbformat": 4,
 "nbformat_minor": 4
}
