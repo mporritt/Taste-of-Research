{
 "cells": [
  {
   "cell_type": "code",
   "execution_count": 1,
   "metadata": {},
   "outputs": [],
   "source": [
    "import numpy as np\n",
    "from astropy.timeseries import BoxLeastSquares\n",
    "import matplotlib.pyplot as plt\n",
    "\n",
    "from dataInteraction import read_data, parameter_lookup"
   ]
  },
  {
   "cell_type": "code",
   "execution_count": 2,
   "metadata": {
    "scrolled": false
   },
   "outputs": [],
   "source": [
    "def calc_period(epic, campaign, print_vals=False):    \n",
    "    model = read_data(epic, campaign, verbose=False)\n",
    "    t = model.lightcurve.time\n",
    "    y = model.lightcurve.flux\n",
    "    dy = model.lightcurve.flux_err\n",
    "\n",
    "    bls = BoxLeastSquares(t, y, dy)\n",
    "    #periods = np.linspace(0.7, 30, 5000)\n",
    "    durations = [0.05,0.1,0.2]\n",
    "    periodogram = bls.autopower(durations)\n",
    "    \n",
    "    max_power = np.argmax(periodogram.power)\n",
    "\n",
    "    if print_vals:\n",
    "        plt.plot(periodogram.period, periodogram.power, 'k')\n",
    "        plt.xlabel(\"Period [d]\")\n",
    "        plt.ylabel(\"BLS Likelihood\")\n",
    "        plt.show()\n",
    "        \n",
    "        print(periodogram.period[max_power])\n",
    "        print(periodogram.duration[max_power])\n",
    "        print(periodogram.transit_time[max_power])\n",
    "\n",
    "        stats = bls.compute_stats(periodogram.period[max_power],\n",
    "                                  periodogram.duration[max_power],\n",
    "                                  periodogram.transit_time[max_power])\n",
    "        print(\"\")\n",
    "        for k in stats:\n",
    "            print(k, \":\", stats[k])\n",
    "\n",
    "    return (periodogram.transit_time[max_power], periodogram.period[max_power])"
   ]
  },
  {
   "cell_type": "code",
   "execution_count": 2,
   "metadata": {
    "scrolled": true
   },
   "outputs": [
    {
     "name": "stdout",
     "output_type": "stream",
     "text": [
      "Reference parameters: t0=2308.7108264371577, period=10.366760220864801, num_transits=8\n",
      "Reference parameters: t0=2315.2107203124847, period=12.279463623813122, num_transits=6\n",
      "Reference parameters: t0=2324.090583057889, period=23.12765265777745, num_transits=3\n",
      "Reference parameters: t0=2307.6607526633716, period=1.610964002081483, num_transits=46\n",
      "Reference parameters: t0=2310.14054033626, period=5.313145416852025, num_transits=14\n",
      "Reference parameters: t0=2306.6163236169186, period=2.2190974583631986, num_transits=34\n",
      "Reference parameters: t0=2308.9907322105964, period=2.6450914938746535, num_transits=28\n",
      "Reference parameters: t0=2324.2104577046643, period=30.85385398985691, num_transits=2\n",
      "Reference parameters: t0=2308.9362282614047, period=3.848614911889818, num_transits=19\n",
      "Reference parameters: t0=2335.966056566966, period=29.38213021701952, num_transits=2\n",
      "Reference parameters: t0=2325.7611476577645, period=19.492700820086107, num_transits=3\n",
      "Reference parameters: t0=2309.495744185542, period=5.750892213487229, num_transits=13\n",
      "Reference parameters: t0=2313.515969700647, period=18.640060609447072, num_transits=4\n",
      "Reference parameters: t0=2313.0004072344313, period=8.840647648694672, num_transits=8\n",
      "Reference parameters: t0=2311.9137923863345, period=8.661034822267393, num_transits=8\n",
      "Reference parameters: t0=2313.3357785653147, period=7.14771398790114, num_transits=10\n",
      "Reference parameters: t0=2307.6805319785713, period=2.1775337887266843, num_transits=34\n",
      "Reference parameters: t0=2307.8510955940383, period=9.325745478668967, num_transits=8\n",
      "Reference parameters: t0=2308.145430233908, period=8.564028630873969, num_transits=9\n",
      "Reference parameters: t0=2308.3306980324546, period=1.990649041928822, num_transits=37\n",
      "Reference parameters: t0=2310.385596966726, period=8.868169216945855, num_transits=9\n",
      "Reference parameters: t0=2309.1808530441126, period=6.413537081239008, num_transits=12\n",
      "Reference parameters: t0=2313.5860183208074, period=21.199215111606705, num_transits=4\n",
      "Reference parameters: t0=2312.950601858498, period=16.269488399197186, num_transits=5\n",
      "Reference parameters: t0=2320.9255289387343, period=25.93105192809391, num_transits=3\n",
      "Reference parameters: t0=2312.980586464201, period=10.135960269246466, num_transits=7\n",
      "Reference parameters: t0=2312.1356522616757, period=14.124574628449947, num_transits=5\n",
      "Reference parameters: t0=2307.3756906060885, period=1.974362503027578, num_transits=38\n",
      "Reference parameters: t0=2307.1552404974227, period=0.9039868266119949, num_transits=83\n",
      "Reference parameters: t0=2331.3953506710204, period=26.22272741046842, num_transits=2\n",
      "Reference parameters: t0=2307.3652817456996, period=4.7332648595810936, num_transits=16\n",
      "Reference parameters: t0=2307.370688547866, period=11.392054903707832, num_transits=7\n",
      "Reference parameters: t0=2307.460591777862, period=1.3756770702033283, num_transits=54\n",
      "Reference parameters: t0=2314.620344982037, period=12.085071366399939, num_transits=6\n",
      "Reference parameters: t0=2310.8006744383288, period=6.892913620417023, num_transits=11\n",
      "Reference parameters: t0=2306.7309168875086, period=27.542797843009954, num_transits=3\n",
      "Reference parameters: t0=2312.5607555132183, period=25.405576268339992, num_transits=3\n",
      "Reference parameters: t0=2317.0712879885186, period=37.268522306009785, num_transits=2\n",
      "Reference parameters: t0=2311.3811812412564, period=7.07781715116605, num_transits=10\n",
      "Reference parameters: t0=2326.1457983680266, period=26.355673291812167, num_transits=3\n",
      "Reference parameters: t0=2306.725466536862, period=8.266715357309673, num_transits=10\n",
      "Reference parameters: t0=2318.3811716449086, period=20.35347896405527, num_transits=1\n",
      "Reference parameters: t0=2307.575411516187, period=10.664456364359346, num_transits=7\n",
      "Reference parameters: t0=2319.130759491363, period=14.552038466629588, num_transits=5\n",
      "Reference parameters: t0=2319.3612025243056, period=36.210546098412586, num_transits=2\n",
      "Reference parameters: t0=2327.230998966993, period=36.073888398476825, num_transits=2\n",
      "Reference parameters: t0=2315.3403244757105, period=20.987585259196994, num_transits=4\n",
      "Reference parameters: t0=2306.9854993692425, period=0.8982275426898794, num_transits=83\n",
      "Reference parameters: t0=2308.7357875460584, period=5.036905821762149, num_transits=15\n",
      "Reference parameters: t0=2311.3857733131213, period=21.17706715833194, num_transits=4\n",
      "Reference parameters: t0=2314.8855807943096, period=9.35620379598119, num_transits=8\n",
      "Reference parameters: t0=2314.515948278365, period=30.94175953394527, num_transits=3\n",
      "Reference parameters: t0=2310.0605667616064, period=5.193108386489357, num_transits=14\n",
      "Reference parameters: t0=2327.8652838784283, period=33.07767411526322, num_transits=2\n",
      "Reference parameters: t0=2307.5507798402955, period=5.1769899292341615, num_transits=15\n",
      "Reference parameters: t0=2309.070690964182, period=8.404207173849656, num_transits=9\n",
      "Reference parameters: t0=2323.4112132368437, period=17.712933882666174, num_transits=4\n",
      "Reference parameters: t0=2308.410705722851, period=3.115626419942837, num_transits=24\n",
      "Reference parameters: t0=2313.9108955953097, period=9.565277306939338, num_transits=8\n",
      "Reference parameters: t0=2319.6857577954243, period=14.676103642498102, num_transits=5\n",
      "Reference parameters: t0=2307.1541322768985, period=1.567072847215137, num_transits=48\n",
      "Reference parameters: t0=2311.9853485294443, period=20.22874249159472, num_transits=4\n",
      "Reference parameters: t0=2306.721193245539, period=0.479375593138796, num_transits=156\n",
      "Reference parameters: t0=2307.0804862450445, period=2.919921432139991, num_transits=26\n",
      "Reference parameters: t0=2308.345475737398, period=2.996026985245082, num_transits=25\n",
      "Reference parameters: t0=2314.315738695861, period=14.46187783191601, num_transits=5\n",
      "Reference parameters: t0=2307.7256873902315, period=10.138997192391939, num_transits=8\n",
      "Reference parameters: t0=2309.125843708069, period=3.2814596312665927, num_transits=23\n",
      "Reference parameters: t0=2311.625931431671, period=7.6758732655819255, num_transits=10\n",
      "Reference parameters: t0=2306.751073655338, period=0.46399920681364737, num_transits=162\n",
      "Reference parameters: t0=2307.7356361558486, period=1.889818856331266, num_transits=40\n",
      "Reference parameters: t0=2317.515709680972, period=15.75167911658958, num_transits=5\n",
      "Reference parameters: t0=2307.195798208305, period=6.4560955830689695, num_transits=12\n",
      "Reference parameters: t0=2306.890539180023, period=12.890494842138786, num_transits=6\n",
      "Reference parameters: t0=2312.165446691309, period=6.833019647373751, num_transits=11\n",
      "Reference parameters: t0=2307.6903643959213, period=7.188797407306849, num_transits=11\n",
      "Reference parameters: t0=2316.1007162100086, period=11.717913161306035, num_transits=6\n",
      "Reference parameters: t0=2318.070616266058, period=13.771335113183962, num_transits=5\n",
      "Reference parameters: t0=2307.265682108236, period=1.5650556193631984, num_transits=48\n",
      "Reference parameters: t0=2313.4807648646283, period=7.131449850842471, num_transits=10\n",
      "Reference parameters: t0=2327.49592207933, period=25.444383034814873, num_transits=3\n",
      "Reference parameters: t0=2311.855921616462, period=14.450126101162816, num_transits=5\n",
      "Reference parameters: t0=2332.7005193964033, period=37.38421496600684, num_transits=2\n",
      "Reference parameters: t0=2307.1961221153115, period=1.291443323646829, num_transits=58\n",
      "Reference parameters: t0=2308.206666932966, period=4.736947372527805, num_transits=16\n",
      "Reference parameters: t0=2306.7858026414006, period=1.6406888549572407, num_transits=46\n",
      "Reference parameters: t0=2313.9602985658507, period=24.468038456047875, num_transits=3\n",
      "Reference parameters: t0=2309.980887294897, period=4.3994791814280285, num_transits=17\n",
      "Reference parameters: t0=2319.710748023988, period=36.55360528579368, num_transits=2\n",
      "Reference parameters: t0=2318.8953488013904, period=18.714532568510325, num_transits=4\n",
      "Reference parameters: t0=2311.60044085797, period=9.014903202587911, num_transits=8\n",
      "Reference parameters: t0=2307.2505724063526, period=2.2265904862891097, num_transits=34\n",
      "Reference parameters: t0=2308.916033930705, period=5.82214040789251, num_transits=13\n",
      "Reference parameters: t0=2314.780427791049, period=10.791824628393224, num_transits=7\n",
      "Reference parameters: t0=2310.8205537491676, period=29.73189691044213, num_transits=3\n"
     ]
    },
    {
     "name": "stdout",
     "output_type": "stream",
     "text": [
      "Reference parameters: t0=2306.690654720367, period=1.7244512114460548, num_transits=44\n",
      "Reference parameters: t0=2309.886270807014, period=35.39572646299712, num_transits=3\n",
      "Reference parameters: t0=2311.860598993284, period=7.80670681262259, num_transits=9\n",
      "Reference parameters: t0=2336.850219115653, period=32.58933588413899, num_transits=2\n",
      "Reference parameters: t0=2315.5007203949067, period=16.994879153143142, num_transits=4\n",
      "Reference parameters: t0=2308.845328716488, period=3.411174178186317, num_transits=22\n",
      "Reference parameters: t0=2309.4106702832332, period=3.4767220879593905, num_transits=21\n",
      "Reference parameters: t0=2310.5757566410502, period=5.792238305257758, num_transits=13\n",
      "Reference parameters: t0=2313.3208613077377, period=9.845241887541707, num_transits=7\n",
      "Reference parameters: t0=2308.095891799239, period=7.729519343635684, num_transits=10\n",
      "Reference parameters: t0=2307.3656477922586, period=0.8218145775020925, num_transits=91\n",
      "Reference parameters: t0=2308.5203491762477, period=3.8506428471467653, num_transits=19\n"
     ]
    },
    {
     "data": {
      "text/plain": [
       "<matplotlib.collections.PathCollection at 0x1af7e1dd970>"
      ]
     },
     "execution_count": 2,
     "metadata": {},
     "output_type": "execute_result"
    },
    {
     "data": {
      "image/png": "[encoded data removed]",
      "text/plain": [
       "<Figure size 432x288 with 1 Axes>"
      ]
     },
     "metadata": {
      "needs_background": "light"
     },
     "output_type": "display_data"
    }
   ],
   "source": [
    "with open(\"Data/EPIC_list.txt\", 'r') as f:\n",
    "    epics = [int(line[:-1]) for line in f.readlines()]\n",
    "\n",
    "p_found = []\n",
    "p_calc = []\n",
    "    \n",
    "for epic in epics:\n",
    "    t0_f, p_f = parameter_lookup(epic, verbose=False)    \n",
    "    if p_f is None: continue\n",
    "    p_c = read_data(epic, campaign=5, lookup_pars=False, verbose=False).p_ref\n",
    "        \n",
    "    p_found.append(p_f)\n",
    "    p_calc.append(p_c)\n",
    "    \n",
    "plt.scatter(p_found, p_calc)"
   ]
  },
  {
   "cell_type": "code",
   "execution_count": 3,
   "metadata": {},
   "outputs": [
    {
     "name": "stdout",
     "output_type": "stream",
     "text": [
      "95 calculated periods are within 5% of the 107 pre-recorded values.\n"
     ]
    }
   ],
   "source": [
    "count = 0\n",
    "for i in range(len(p_found)):\n",
    "    p_c = p_calc[i]\n",
    "    p_f = p_found[i]\n",
    "    \n",
    "    if (p_c > p_f*0.95 and p_c < p_f*1.05):\n",
    "        count += 1\n",
    "\n",
    "print(f\"{count} calculated periods are within 5% of the {len(p_calc)} pre-recorded values.\")"
   ]
  },
  {
   "cell_type": "code",
   "execution_count": null,
   "metadata": {},
   "outputs": [],
   "source": []
  }
 ],
 "metadata": {
  "kernelspec": {
   "display_name": "Python 3",
   "language": "python",
   "name": "python3"
  },
  "language_info": {
   "codemirror_mode": {
    "name": "ipython",
    "version": 3
   },
   "file_extension": ".py",
   "mimetype": "text/x-python",
   "name": "python",
   "nbconvert_exporter": "python",
   "pygments_lexer": "ipython3",
   "version": "3.8.5"
  }
 },
 "nbformat": 4,
 "nbformat_minor": 4
}
